{
 "cells": [
  {
   "cell_type": "markdown",
   "id": "ba2b531a",
   "metadata": {},
   "source": [
    "Countries Analysis"
   ]
  },
  {
   "cell_type": "code",
   "execution_count": 73,
   "id": "256741bf",
   "metadata": {},
   "outputs": [],
   "source": [
    "import pandas as pd\n",
    "import requests\n",
    "import json\n"
   ]
  },
  {
   "cell_type": "code",
   "execution_count": 74,
   "id": "21ce7f7c",
   "metadata": {},
   "outputs": [],
   "source": [
    "# Fecthing the dat from api\n",
    "api_url = 'https://restcountries.com/v3.1/all'\n",
    "response = requests.get(api_url)\n",
    "data = response.json()"
   ]
  },
  {
   "cell_type": "code",
   "execution_count": 75,
   "id": "8325d102",
   "metadata": {},
   "outputs": [
    {
     "name": "stdout",
     "output_type": "stream",
     "text": [
      "<class 'pandas.core.frame.DataFrame'>\n",
      "RangeIndex: 250 entries, 0 to 249\n",
      "Columns: 897 entries, tld to languages.lit\n",
      "dtypes: bool(3), float64(20), int64(1), object(873)\n",
      "memory usage: 1.7+ MB\n"
     ]
    }
   ],
   "source": [
    "# Converting it into a datframe\n",
    "# df = pd.DataFrame(data)\n",
    "# print(df.info())\n",
    "df = pd.json_normalize(data)\n",
    "df.info()"
   ]
  },
  {
   "cell_type": "code",
   "execution_count": 79,
   "id": "d237ca4c",
   "metadata": {},
   "outputs": [],
   "source": [
    "df_cols_to_drop = [col for col in df.columns if 'translations' in col or 'currencies' in col or 'coatOfArms' in col or 'postalCode' in col or 'name.nativeName' in col or 'name.tsn' in col or 'idd' in col or 'altSpellings' in col or 'gini' in col]\n",
    "df.drop(columns=df_cols_to_drop, inplace=True)"
   ]
  },
  {
   "cell_type": "code",
   "execution_count": 84,
   "id": "51608137",
   "metadata": {},
   "outputs": [
    {
     "data": {
      "text/plain": [
       "tld                    1\n",
       "demonyms.fra.m         1\n",
       "startOfWeek            1\n",
       "name.common            1\n",
       "name.official          1\n",
       "demonyms.eng.f         1\n",
       "demonyms.eng.m         1\n",
       "demonyms.fra.f         1\n",
       "maps.googleMaps        1\n",
       "timezones              1\n",
       "maps.openStreetMaps    1\n",
       "car.signs              1\n",
       "car.side               1\n",
       "flags.png              1\n",
       "flags.svg              1\n",
       "flags.alt              1\n",
       "continents             1\n",
       "fifa                   1\n",
       "cca2                   1\n",
       "region                 1\n",
       "ccn3                   1\n",
       "cioc                   1\n",
       "independent            1\n",
       "status                 1\n",
       "unMember               1\n",
       "capital                1\n",
       "subregion              1\n",
       "population             1\n",
       "latlng                 1\n",
       "landlocked             1\n",
       "borders                1\n",
       "area                   1\n",
       "cca3                   1\n",
       "flag                   1\n",
       "capitalInfo.latlng     1\n",
       "dtype: int64"
      ]
     },
     "execution_count": 84,
     "metadata": {},
     "output_type": "execute_result"
    }
   ],
   "source": [
    "df.columns.value_counts()"
   ]
  }
 ],
 "metadata": {
  "kernelspec": {
   "display_name": "Python 3",
   "language": "python",
   "name": "python3"
  },
  "language_info": {
   "codemirror_mode": {
    "name": "ipython",
    "version": 3
   },
   "file_extension": ".py",
   "mimetype": "text/x-python",
   "name": "python",
   "nbconvert_exporter": "python",
   "pygments_lexer": "ipython3",
   "version": "3.10.1"
  }
 },
 "nbformat": 4,
 "nbformat_minor": 5
}
