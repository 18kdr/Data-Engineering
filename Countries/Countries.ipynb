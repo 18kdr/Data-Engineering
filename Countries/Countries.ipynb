{
 "cells": [
  {
   "cell_type": "markdown",
   "id": "ba2b531a",
   "metadata": {},
   "source": [
    "Countries Analysis"
   ]
  },
  {
   "cell_type": "code",
   "execution_count": 1,
   "id": "256741bf",
   "metadata": {},
   "outputs": [],
   "source": [
    "import pandas as pd\n",
    "import requests\n",
    "import json\n",
    "import awswrangler as wr"
   ]
  },
  {
   "cell_type": "code",
   "execution_count": 2,
   "id": "21ce7f7c",
   "metadata": {},
   "outputs": [],
   "source": [
    "# Fecthing the dat from api\n",
    "\n",
    "api_url = 'https://restcountries.com/v3.1/all'\n",
    "response = requests.get(api_url)\n",
    "data = response.json()"
   ]
  },
  {
   "cell_type": "code",
   "execution_count": 3,
   "id": "8325d102",
   "metadata": {},
   "outputs": [
    {
     "name": "stdout",
     "output_type": "stream",
     "text": [
      "<class 'pandas.core.frame.DataFrame'>\n",
      "RangeIndex: 250 entries, 0 to 249\n",
      "Columns: 897 entries, tld to languages.lit\n",
      "dtypes: bool(3), float64(20), int64(1), object(873)\n",
      "memory usage: 1.7+ MB\n"
     ]
    }
   ],
   "source": [
    "# normalizing the JSON data \n",
    "\n",
    "df = pd.json_normalize(data)\n",
    "df.info()"
   ]
  },
  {
   "cell_type": "code",
   "execution_count": 4,
   "id": "d237ca4c",
   "metadata": {},
   "outputs": [],
   "source": [
    "# Dropping the unecessary columns \n",
    "\n",
    "# Multi column dropping\n",
    "df_cols_to_drop = [col for col in df.columns if 'demonyms' in col or 'translations' in col or 'currencies' in col or 'coatOfArms' in col or 'postalCode' in col or 'name.nativeName' in col or 'name.tsn' in col or 'idd' in col or 'altSpellings' in col or 'gini' in col  or 'languages' in col]\n",
    "df.drop(columns=df_cols_to_drop, inplace=True)\n",
    "\n",
    "# Single column dropping \n",
    "df.drop(columns='flag', inplace = True)\n"
   ]
  },
  {
   "cell_type": "code",
   "execution_count": 5,
   "id": "51608137",
   "metadata": {},
   "outputs": [],
   "source": [
    "# No concatenating of outputs\n",
    "pd.set_option('display.max_colwidth', None)\n",
    "pd.set_option('display.width', None)\n",
    "pd.set_option('display.max_columns', None)\n",
    "pd.set_option('display.max_seq_item', None)"
   ]
  },
  {
   "cell_type": "code",
   "execution_count": 6,
   "id": "df527883",
   "metadata": {},
   "outputs": [
    {
     "data": {
      "text/html": [
       "<div>\n",
       "<style scoped>\n",
       "    .dataframe tbody tr th:only-of-type {\n",
       "        vertical-align: middle;\n",
       "    }\n",
       "\n",
       "    .dataframe tbody tr th {\n",
       "        vertical-align: top;\n",
       "    }\n",
       "\n",
       "    .dataframe thead th {\n",
       "        text-align: right;\n",
       "    }\n",
       "</style>\n",
       "<table border=\"1\" class=\"dataframe\">\n",
       "  <thead>\n",
       "    <tr style=\"text-align: right;\">\n",
       "      <th></th>\n",
       "      <th>tld</th>\n",
       "      <th>cca2</th>\n",
       "      <th>ccn3</th>\n",
       "      <th>cioc</th>\n",
       "      <th>independent</th>\n",
       "      <th>status</th>\n",
       "      <th>unMember</th>\n",
       "      <th>capital</th>\n",
       "      <th>region</th>\n",
       "      <th>subregion</th>\n",
       "      <th>latlng</th>\n",
       "      <th>landlocked</th>\n",
       "      <th>borders</th>\n",
       "      <th>area</th>\n",
       "      <th>cca3</th>\n",
       "      <th>population</th>\n",
       "      <th>fifa</th>\n",
       "      <th>timezones</th>\n",
       "      <th>continents</th>\n",
       "      <th>startOfWeek</th>\n",
       "      <th>name.common</th>\n",
       "      <th>name.official</th>\n",
       "      <th>maps.googleMaps</th>\n",
       "      <th>maps.openStreetMaps</th>\n",
       "      <th>car.signs</th>\n",
       "      <th>car.side</th>\n",
       "      <th>flags.png</th>\n",
       "      <th>flags.svg</th>\n",
       "      <th>flags.alt</th>\n",
       "      <th>capitalInfo.latlng</th>\n",
       "    </tr>\n",
       "  </thead>\n",
       "  <tbody>\n",
       "    <tr>\n",
       "      <th>0</th>\n",
       "      <td>.bw</td>\n",
       "      <td>BW</td>\n",
       "      <td>072</td>\n",
       "      <td>BOT</td>\n",
       "      <td>True</td>\n",
       "      <td>officially-assigned</td>\n",
       "      <td>True</td>\n",
       "      <td>Gaborone</td>\n",
       "      <td>Africa</td>\n",
       "      <td>Southern Africa</td>\n",
       "      <td>-22.0, 24.0</td>\n",
       "      <td>True</td>\n",
       "      <td>NAM, ZAF, ZMB, ZWE</td>\n",
       "      <td>582000.0</td>\n",
       "      <td>BWA</td>\n",
       "      <td>2351625</td>\n",
       "      <td>BOT</td>\n",
       "      <td>UTC+02:00</td>\n",
       "      <td>Africa</td>\n",
       "      <td>monday</td>\n",
       "      <td>Botswana</td>\n",
       "      <td>Republic of Botswana</td>\n",
       "      <td>https://goo.gl/maps/E364KeLy6N4JwxwQ8</td>\n",
       "      <td>https://www.openstreetmap.org/relation/1889339</td>\n",
       "      <td>BW</td>\n",
       "      <td>left</td>\n",
       "      <td>https://flagcdn.com/w320/bw.png</td>\n",
       "      <td>https://flagcdn.com/bw.svg</td>\n",
       "      <td>The flag of Botswana has a light blue field with a white-edged black horizontal band across its center.</td>\n",
       "      <td>-24.63, 25.9</td>\n",
       "    </tr>\n",
       "  </tbody>\n",
       "</table>\n",
       "</div>"
      ],
      "text/plain": [
       "   tld cca2 ccn3 cioc independent               status unMember   capital  \\\n",
       "0  .bw   BW  072  BOT        True  officially-assigned     True  Gaborone   \n",
       "\n",
       "   region        subregion       latlng landlocked             borders  \\\n",
       "0  Africa  Southern Africa  -22.0, 24.0       True  NAM, ZAF, ZMB, ZWE   \n",
       "\n",
       "       area cca3 population fifa  timezones continents startOfWeek  \\\n",
       "0  582000.0  BWA    2351625  BOT  UTC+02:00     Africa      monday   \n",
       "\n",
       "  name.common         name.official                        maps.googleMaps  \\\n",
       "0    Botswana  Republic of Botswana  https://goo.gl/maps/E364KeLy6N4JwxwQ8   \n",
       "\n",
       "                              maps.openStreetMaps car.signs car.side  \\\n",
       "0  https://www.openstreetmap.org/relation/1889339        BW     left   \n",
       "\n",
       "                         flags.png                   flags.svg  \\\n",
       "0  https://flagcdn.com/w320/bw.png  https://flagcdn.com/bw.svg   \n",
       "\n",
       "                                                                                                 flags.alt  \\\n",
       "0  The flag of Botswana has a light blue field with a white-edged black horizontal band across its center.   \n",
       "\n",
       "  capitalInfo.latlng  \n",
       "0       -24.63, 25.9  "
      ]
     },
     "execution_count": 6,
     "metadata": {},
     "output_type": "execute_result"
    }
   ],
   "source": [
    "# Single column cleaning\n",
    "\n",
    "df['continents'] = df[\"continents\"].astype(str).str.strip('[]\\'')\n",
    "df['capital'] = df[\"capital\"].apply(str).str.strip('[]\\'\\\"')\n",
    "\n",
    "# Apply to the whole of dataframe\n",
    "for col in df.columns:\n",
    "    df[col] = df[col].apply(lambda col: str(col).strip('[]\\'\\\"'))\n",
    "\n",
    "df['borders'] = df['borders'].astype(str).str.replace(\"'\",\"\",regex= False)\n",
    "\n",
    "df.head(1)"
   ]
  },
  {
   "cell_type": "code",
   "execution_count": 7,
   "id": "25821c98",
   "metadata": {},
   "outputs": [
    {
     "data": {
      "text/html": [
       "<div>\n",
       "<style scoped>\n",
       "    .dataframe tbody tr th:only-of-type {\n",
       "        vertical-align: middle;\n",
       "    }\n",
       "\n",
       "    .dataframe tbody tr th {\n",
       "        vertical-align: top;\n",
       "    }\n",
       "\n",
       "    .dataframe thead th {\n",
       "        text-align: right;\n",
       "    }\n",
       "</style>\n",
       "<table border=\"1\" class=\"dataframe\">\n",
       "  <thead>\n",
       "    <tr style=\"text-align: right;\">\n",
       "      <th></th>\n",
       "      <th>tld</th>\n",
       "      <th>cca2</th>\n",
       "      <th>ccn3</th>\n",
       "      <th>cioc</th>\n",
       "      <th>independent</th>\n",
       "      <th>status</th>\n",
       "      <th>unMember</th>\n",
       "      <th>capital</th>\n",
       "      <th>region</th>\n",
       "      <th>subregion</th>\n",
       "      <th>landlocked</th>\n",
       "      <th>borders</th>\n",
       "      <th>area</th>\n",
       "      <th>cca3</th>\n",
       "      <th>population</th>\n",
       "      <th>fifa</th>\n",
       "      <th>timezones</th>\n",
       "      <th>continents</th>\n",
       "      <th>startOfWeek</th>\n",
       "      <th>name.common</th>\n",
       "      <th>name.official</th>\n",
       "      <th>maps.googleMaps</th>\n",
       "      <th>maps.openStreetMaps</th>\n",
       "      <th>car.signs</th>\n",
       "      <th>car.side</th>\n",
       "      <th>flags.png</th>\n",
       "      <th>flags.svg</th>\n",
       "      <th>flags.alt</th>\n",
       "      <th>capitalInfo.latlng</th>\n",
       "      <th>Latitude</th>\n",
       "      <th>Longitude</th>\n",
       "      <th>Capital latitude</th>\n",
       "      <th>Capital Longitude</th>\n",
       "    </tr>\n",
       "  </thead>\n",
       "  <tbody>\n",
       "    <tr>\n",
       "      <th>0</th>\n",
       "      <td>.bw</td>\n",
       "      <td>BW</td>\n",
       "      <td>072</td>\n",
       "      <td>BOT</td>\n",
       "      <td>True</td>\n",
       "      <td>officially-assigned</td>\n",
       "      <td>True</td>\n",
       "      <td>Gaborone</td>\n",
       "      <td>Africa</td>\n",
       "      <td>Southern Africa</td>\n",
       "      <td>True</td>\n",
       "      <td>NAM, ZAF, ZMB, ZWE</td>\n",
       "      <td>582000.0</td>\n",
       "      <td>BWA</td>\n",
       "      <td>2351625</td>\n",
       "      <td>BOT</td>\n",
       "      <td>UTC+02:00</td>\n",
       "      <td>Africa</td>\n",
       "      <td>monday</td>\n",
       "      <td>Botswana</td>\n",
       "      <td>Republic of Botswana</td>\n",
       "      <td>https://goo.gl/maps/E364KeLy6N4JwxwQ8</td>\n",
       "      <td>https://www.openstreetmap.org/relation/1889339</td>\n",
       "      <td>BW</td>\n",
       "      <td>left</td>\n",
       "      <td>https://flagcdn.com/w320/bw.png</td>\n",
       "      <td>https://flagcdn.com/bw.svg</td>\n",
       "      <td>The flag of Botswana has a light blue field with a white-edged black horizontal band across its center.</td>\n",
       "      <td>-24.63, 25.9</td>\n",
       "      <td>-22.0</td>\n",
       "      <td>24.0</td>\n",
       "      <td>-24.63</td>\n",
       "      <td>25.9</td>\n",
       "    </tr>\n",
       "  </tbody>\n",
       "</table>\n",
       "</div>"
      ],
      "text/plain": [
       "   tld cca2 ccn3 cioc independent               status unMember   capital  \\\n",
       "0  .bw   BW  072  BOT        True  officially-assigned     True  Gaborone   \n",
       "\n",
       "   region        subregion landlocked             borders      area cca3  \\\n",
       "0  Africa  Southern Africa       True  NAM, ZAF, ZMB, ZWE  582000.0  BWA   \n",
       "\n",
       "  population fifa  timezones continents startOfWeek name.common  \\\n",
       "0    2351625  BOT  UTC+02:00     Africa      monday    Botswana   \n",
       "\n",
       "          name.official                        maps.googleMaps  \\\n",
       "0  Republic of Botswana  https://goo.gl/maps/E364KeLy6N4JwxwQ8   \n",
       "\n",
       "                              maps.openStreetMaps car.signs car.side  \\\n",
       "0  https://www.openstreetmap.org/relation/1889339        BW     left   \n",
       "\n",
       "                         flags.png                   flags.svg  \\\n",
       "0  https://flagcdn.com/w320/bw.png  https://flagcdn.com/bw.svg   \n",
       "\n",
       "                                                                                                 flags.alt  \\\n",
       "0  The flag of Botswana has a light blue field with a white-edged black horizontal band across its center.   \n",
       "\n",
       "  capitalInfo.latlng Latitude Longitude Capital latitude Capital Longitude  \n",
       "0       -24.63, 25.9    -22.0      24.0           -24.63              25.9  "
      ]
     },
     "execution_count": 7,
     "metadata": {},
     "output_type": "execute_result"
    }
   ],
   "source": [
    "# Splitting of column in seperate for expansion of columns\n",
    "\n",
    "df[['Latitude', 'Longitude']] = df['latlng'].str.split(',', n = 1, expand = True)\n",
    "df[['Capital latitude', 'Capital Longitude']] = df['capitalInfo.latlng'].str.split(',', n = 1, expand = True)\n",
    "\n",
    "\n",
    "columnsDropped = ['latlng', 'capitalInfo.latlng']\n",
    "df.drop(columns = 'latlng', inplace = True)\n",
    "df.head(1)"
   ]
  },
  {
   "cell_type": "code",
   "execution_count": 8,
   "id": "529cfd09",
   "metadata": {},
   "outputs": [],
   "source": [
    "# Capital first letter in startOfWeek Column\n",
    "\n",
    "def weekConversion(days):\n",
    "    weekday = \"\"\n",
    "    for i in range(0,len(days)):\n",
    "        if i == 0:\n",
    "            i = str(days[i]).upper()\n",
    "            weekday += i\n",
    "        else:\n",
    "            weekday += days[i]\n",
    "    return weekday\n",
    "    \n",
    "df['startOfWeek'] = df['startOfWeek'].apply(weekConversion)"
   ]
  },
  {
   "cell_type": "code",
   "execution_count": 9,
   "id": "4499e5b2",
   "metadata": {},
   "outputs": [
    {
     "data": {
      "text/plain": [
       "officially-assigned    249\n",
       "user-assigned            1\n",
       "Name: status, dtype: int64"
      ]
     },
     "execution_count": 9,
     "metadata": {},
     "output_type": "execute_result"
    }
   ],
   "source": [
    "df['status'].value_counts()"
   ]
  },
  {
   "cell_type": "code",
   "execution_count": 10,
   "id": "f69e1906",
   "metadata": {},
   "outputs": [],
   "source": [
    "df_cleaned_data = df.copy()"
   ]
  },
  {
   "cell_type": "code",
   "execution_count": null,
   "id": "55aa426e",
   "metadata": {},
   "outputs": [
    {
     "data": {
      "text/plain": [
       "{'paths': ['s3://countrystore1/projdata/cleanedData.parquet'],\n",
       " 'partitions_values': {}}"
      ]
     },
     "execution_count": 16,
     "metadata": {},
     "output_type": "execute_result"
    }
   ],
   "source": [
    "wr.s3.to_parquet(df_cleaned_data,path=\"your_bucket_path\",index=False)"
   ]
  },
  {
   "cell_type": "code",
   "execution_count": null,
   "id": "51d9e249",
   "metadata": {},
   "outputs": [
    {
     "name": "stdout",
     "output_type": "stream",
     "text": [
      "   tld cca2 ccn3 cioc independent               status unMember     capital  \\\n",
      "0  .bw   BW  072  BOT        True  officially-assigned     True    Gaborone   \n",
      "1  .to   TO  776  TGA        True  officially-assigned     True  Nuku'alofa   \n",
      "2  .gr   GR  300  GRE        True  officially-assigned     True      Athens   \n",
      "3  .mh   MH  584  MHL        True  officially-assigned     True      Majuro   \n",
      "4  .by   BY  112  BLR        True  officially-assigned     True       Minsk   \n",
      "\n",
      "    region        subregion landlocked                  borders      area  \\\n",
      "0   Africa  Southern Africa       True       NAM, ZAF, ZMB, ZWE  582000.0   \n",
      "1  Oceania        Polynesia      False                      nan     747.0   \n",
      "2   Europe  Southern Europe      False       ALB, BGR, TUR, MKD  131990.0   \n",
      "3  Oceania       Micronesia      False                      nan     181.0   \n",
      "4   Europe   Eastern Europe       True  LVA, LTU, POL, RUS, UKR  207600.0   \n",
      "\n",
      "  cca3 population fifa  timezones continents startOfWeek       name.common  \\\n",
      "0  BWA    2351625  BOT  UTC+02:00     Africa      Monday          Botswana   \n",
      "1  TON     105697  TGA  UTC+13:00    Oceania      Monday             Tonga   \n",
      "2  GRC   10715549  GRE  UTC+02:00     Europe      Monday            Greece   \n",
      "3  MHL      59194  nan  UTC+12:00    Oceania      Monday  Marshall Islands   \n",
      "4  BLR    9398861  BLR  UTC+03:00     Europe      Monday           Belarus   \n",
      "\n",
      "                      name.official                        maps.googleMaps  \\\n",
      "0              Republic of Botswana  https://goo.gl/maps/E364KeLy6N4JwxwQ8   \n",
      "1                  Kingdom of Tonga  https://goo.gl/maps/p5YALBY2QdEzswRo7   \n",
      "2                 Hellenic Republic  https://goo.gl/maps/LHGcAvuRyD2iKECC6   \n",
      "3  Republic of the Marshall Islands  https://goo.gl/maps/A4xLi1XvcX88gi3W8   \n",
      "4               Republic of Belarus  https://goo.gl/maps/PJUDU3EBPSszCQcu6   \n",
      "\n",
      "                              maps.openStreetMaps car.signs car.side  \\\n",
      "0  https://www.openstreetmap.org/relation/1889339        BW     left   \n",
      "1  https://www.openstreetmap.org/relation/2186665        TO     left   \n",
      "2   https://www.openstreetmap.org/relation/192307        GR    right   \n",
      "3   https://www.openstreetmap.org/relation/571771        MH    right   \n",
      "4    https://www.openstreetmap.org/relation/59065        BY    right   \n",
      "\n",
      "                         flags.png                   flags.svg  \\\n",
      "0  https://flagcdn.com/w320/bw.png  https://flagcdn.com/bw.svg   \n",
      "1  https://flagcdn.com/w320/to.png  https://flagcdn.com/to.svg   \n",
      "2  https://flagcdn.com/w320/gr.png  https://flagcdn.com/gr.svg   \n",
      "3  https://flagcdn.com/w320/mh.png  https://flagcdn.com/mh.svg   \n",
      "4  https://flagcdn.com/w320/by.png  https://flagcdn.com/by.svg   \n",
      "\n",
      "                                                                                                                                                                                                                                                                                                                                                                                flags.alt  \\\n",
      "0                                                                                                                                                                                                                                                                                 The flag of Botswana has a light blue field with a white-edged black horizontal band across its center.   \n",
      "1                                                                                                                                                                                                                                                                           The flag of Tonga has a red field. A white rectangle bearing a red Greek cross is superimposed in the canton.   \n",
      "2                                                                                                                                                                                                                        The flag of Greece is composed of nine equal horizontal bands of blue alternating with white. A blue square bearing a white cross is superimposed in the canton.   \n",
      "3  The flag of Marshall Islands has a blue field with two broadening adjacent diagonal bands of orange and white that extend from the lower hoist-side corner to the upper fly-side corner of the field. A large white star with twenty-four rays — four large rays at the cardinal points and twenty smaller rays — is situated in the upper hoist-side corner above the diagonal bands.   \n",
      "4                                                                                                  The flag of Belarus features a vertical band, with a white and red ornamental pattern, spanning about one-fifth the width of the field on the hoist side. Adjoining the vertical band are two horizontal bands of red and green, with the red band twice the height of the green band.   \n",
      "\n",
      "  capitalInfo.latlng Latitude Longitude Capital_latitude Capital_Longitude  \n",
      "0       -24.63, 25.9    -22.0      24.0           -24.63              25.9  \n",
      "1     -21.13, -175.2    -20.0    -175.0           -21.13            -175.2  \n",
      "2       37.98, 23.73     39.0      22.0            37.98             23.73  \n",
      "3        7.1, 171.38      9.0     168.0              7.1            171.38  \n",
      "4        53.9, 27.57     53.0      28.0             53.9             27.57  \n"
     ]
    }
   ],
   "source": [
    "\n",
    "# Read from S3\n",
    "df_New = wr.s3.read_parquet(\"your_bucket_path\")\n",
    "print(df_New.head())\n"
   ]
  }
 ],
 "metadata": {
  "kernelspec": {
   "display_name": "Python 3",
   "language": "python",
   "name": "python3"
  },
  "language_info": {
   "codemirror_mode": {
    "name": "ipython",
    "version": 3
   },
   "file_extension": ".py",
   "mimetype": "text/x-python",
   "name": "python",
   "nbconvert_exporter": "python",
   "pygments_lexer": "ipython3",
   "version": "3.10.1"
  }
 },
 "nbformat": 4,
 "nbformat_minor": 5
}
