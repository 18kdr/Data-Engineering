{
 "cells": [
  {
   "cell_type": "markdown",
   "id": "ba2b531a",
   "metadata": {},
   "source": [
    "Countries Analysis"
   ]
  },
  {
   "cell_type": "code",
   "execution_count": null,
   "id": "256741bf",
   "metadata": {},
   "outputs": [],
   "source": [
    "import pandas as pd\n",
    "import requests\n",
    "import json\n",
    "import awswrangler as wr"
   ]
  },
  {
   "cell_type": "code",
   "execution_count": null,
   "id": "21ce7f7c",
   "metadata": {},
   "outputs": [],
   "source": [
    "# Fecthing the dat from api\n",
    "\n",
    "api_url = 'https://restcountries.com/v3.1/all'\n",
    "response = requests.get(api_url)\n",
    "data = response.json()"
   ]
  },
  {
   "cell_type": "code",
   "execution_count": null,
   "id": "8325d102",
   "metadata": {},
   "outputs": [],
   "source": [
    "# normalizing the JSON data \n",
    "\n",
    "df = pd.json_normalize(data)\n",
    "df.info()"
   ]
  },
  {
   "cell_type": "code",
   "execution_count": null,
   "id": "d237ca4c",
   "metadata": {},
   "outputs": [],
   "source": [
    "# Dropping the unecessary columns \n",
    "\n",
    "# Multi column dropping\n",
    "df_cols_to_drop = [col for col in df.columns if 'demonyms' in col or 'translations' in col or 'currencies' in col or 'coatOfArms' in col or 'postalCode' in col or 'name.nativeName' in col or 'name.tsn' in col or 'idd' in col or 'altSpellings' in col or 'gini' in col  or 'languages' in col]\n",
    "df.drop(columns=df_cols_to_drop, inplace=True)\n",
    "\n",
    "# Single column dropping \n",
    "df.drop(columns='flag', inplace = True)\n"
   ]
  },
  {
   "cell_type": "code",
   "execution_count": null,
   "id": "51608137",
   "metadata": {},
   "outputs": [],
   "source": [
    "# No concatenating of outputs\n",
    "pd.set_option('display.max_colwidth', None)\n",
    "pd.set_option('display.width', None)\n",
    "pd.set_option('display.max_columns', None)\n",
    "pd.set_option('display.max_seq_item', None)"
   ]
  },
  {
   "cell_type": "code",
   "execution_count": null,
   "id": "df527883",
   "metadata": {},
   "outputs": [],
   "source": [
    "# Single column cleaning\n",
    "\n",
    "df['continents'] = df[\"continents\"].astype(str).str.strip('[]\\'')\n",
    "df['capital'] = df[\"capital\"].apply(str).str.strip('[]\\'\\\"')\n",
    "\n",
    "# Apply to the whole of dataframe\n",
    "for col in df.columns:\n",
    "    df[col] = df[col].apply(lambda col: str(col).strip('[]\\'\\\"'))\n",
    "\n",
    "df['borders'] = df['borders'].astype(str).str.replace(\"'\",\"\",regex= False)\n",
    "\n",
    "df.head(1)"
   ]
  },
  {
   "cell_type": "code",
   "execution_count": null,
   "id": "25821c98",
   "metadata": {},
   "outputs": [],
   "source": [
    "# Splitting of column in seperate for expansion of columns\n",
    "\n",
    "df[['Latitude', 'Longitude']] = df['latlng'].str.split(',', n = 1, expand = True)\n",
    "df[['Capital latitude', 'Capital Longitude']] = df['capitalInfo.latlng'].str.split(',', n = 1, expand = True)\n",
    "\n",
    "\n",
    "columnsDropped = ['latlng', 'capitalInfo.latlng']\n",
    "df.drop(columns = 'latlng', inplace = True)\n",
    "df.head(1)"
   ]
  },
  {
   "cell_type": "code",
   "execution_count": null,
   "id": "529cfd09",
   "metadata": {},
   "outputs": [],
   "source": [
    "# Capital first letter in startOfWeek Column\n",
    "\n",
    "def weekConversion(days):\n",
    "    weekday = \"\"\n",
    "    for i in range(0,len(days)):\n",
    "        if i == 0:\n",
    "            i = str(days[i]).upper()\n",
    "            weekday += i\n",
    "        else:\n",
    "            weekday += days[i]\n",
    "    return weekday\n",
    "    \n",
    "df['startOfWeek'] = df['startOfWeek'].apply(weekConversion)"
   ]
  },
  {
   "cell_type": "code",
   "execution_count": null,
   "id": "4499e5b2",
   "metadata": {},
   "outputs": [],
   "source": [
    "df['status'].value_counts()"
   ]
  },
  {
   "cell_type": "code",
   "execution_count": null,
   "id": "f69e1906",
   "metadata": {},
   "outputs": [],
   "source": [
    "df_cleaned_data = df.copy()"
   ]
  }
 ],
 "metadata": {
  "kernelspec": {
   "display_name": "Python 3",
   "language": "python",
   "name": "python3"
  },
  "language_info": {
   "codemirror_mode": {
    "name": "ipython",
    "version": 3
   },
   "file_extension": ".py",
   "mimetype": "text/x-python",
   "name": "python",
   "nbconvert_exporter": "python",
   "pygments_lexer": "ipython3",
   "version": "3.10.1"
  }
 },
 "nbformat": 4,
 "nbformat_minor": 5
}
