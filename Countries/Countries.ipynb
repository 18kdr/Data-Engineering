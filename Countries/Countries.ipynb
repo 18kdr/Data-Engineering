{
 "cells": [
  {
   "cell_type": "markdown",
   "id": "ba2b531a",
   "metadata": {},
   "source": [
    "Countries Analysis"
   ]
  },
  {
   "cell_type": "code",
   "execution_count": 1,
   "id": "256741bf",
   "metadata": {},
   "outputs": [],
   "source": [
    "import pandas as pd\n",
    "import requests\n",
    "import json\n"
   ]
  },
  {
   "cell_type": "code",
   "execution_count": 2,
   "id": "21ce7f7c",
   "metadata": {},
   "outputs": [],
   "source": [
    "# Fecthing the dat from api\n",
    "api_url = 'https://restcountries.com/v3.1/all'\n",
    "response = requests.get(api_url)\n",
    "data = response.json()"
   ]
  },
  {
   "cell_type": "code",
   "execution_count": 3,
   "id": "8325d102",
   "metadata": {},
   "outputs": [
    {
     "name": "stdout",
     "output_type": "stream",
     "text": [
      "<class 'pandas.core.frame.DataFrame'>\n",
      "RangeIndex: 250 entries, 0 to 249\n",
      "Data columns (total 35 columns):\n",
      " #   Column        Non-Null Count  Dtype  \n",
      "---  ------        --------------  -----  \n",
      " 0   name          250 non-null    object \n",
      " 1   tld           249 non-null    object \n",
      " 2   cca2          250 non-null    object \n",
      " 3   ccn3          249 non-null    object \n",
      " 4   cioc          206 non-null    object \n",
      " 5   independent   250 non-null    bool   \n",
      " 6   status        250 non-null    object \n",
      " 7   unMember      250 non-null    bool   \n",
      " 8   currencies    247 non-null    object \n",
      " 9   idd           250 non-null    object \n",
      " 10  capital       246 non-null    object \n",
      " 11  altSpellings  250 non-null    object \n",
      " 12  region        250 non-null    object \n",
      " 13  subregion     245 non-null    object \n",
      " 14  languages     249 non-null    object \n",
      " 15  latlng        250 non-null    object \n",
      " 16  landlocked    250 non-null    bool   \n",
      " 17  borders       165 non-null    object \n",
      " 18  area          250 non-null    float64\n",
      " 19  demonyms      250 non-null    object \n",
      " 20  cca3          250 non-null    object \n",
      " 21  translations  250 non-null    object \n",
      " 22  flag          250 non-null    object \n",
      " 23  maps          250 non-null    object \n",
      " 24  population    250 non-null    int64  \n",
      " 25  gini          167 non-null    object \n",
      " 26  fifa          206 non-null    object \n",
      " 27  car           250 non-null    object \n",
      " 28  timezones     250 non-null    object \n",
      " 29  continents    250 non-null    object \n",
      " 30  flags         250 non-null    object \n",
      " 31  coatOfArms    250 non-null    object \n",
      " 32  startOfWeek   250 non-null    object \n",
      " 33  capitalInfo   250 non-null    object \n",
      " 34  postalCode    250 non-null    object \n",
      "dtypes: bool(3), float64(1), int64(1), object(30)\n",
      "memory usage: 63.4+ KB\n",
      "None\n"
     ]
    }
   ],
   "source": [
    "# Converting it into a datframe\n",
    "df = pd.DataFrame(data)\n",
    "print(df.info())"
   ]
  },
  {
   "cell_type": "code",
   "execution_count": 4,
   "id": "68c87f28",
   "metadata": {},
   "outputs": [
    {
     "data": {
      "text/plain": [
       "0    {'2015': 53.3}\n",
       "1    {'2015': 37.6}\n",
       "2    {'2018': 32.9}\n",
       "3               NaN\n",
       "4    {'2019': 25.3}\n",
       "5    {'2011': 48.9}\n",
       "6    {'2017': 40.5}\n",
       "7               NaN\n",
       "8               NaN\n",
       "9    {'2011': 33.0}\n",
       "Name: gini, dtype: object"
      ]
     },
     "execution_count": 4,
     "metadata": {},
     "output_type": "execute_result"
    }
   ],
   "source": [
    "df['gini'].head(10)"
   ]
  }
 ],
 "metadata": {
  "kernelspec": {
   "display_name": "Python 3",
   "language": "python",
   "name": "python3"
  },
  "language_info": {
   "codemirror_mode": {
    "name": "ipython",
    "version": 3
   },
   "file_extension": ".py",
   "mimetype": "text/x-python",
   "name": "python",
   "nbconvert_exporter": "python",
   "pygments_lexer": "ipython3",
   "version": "3.10.1"
  }
 },
 "nbformat": 4,
 "nbformat_minor": 5
}
