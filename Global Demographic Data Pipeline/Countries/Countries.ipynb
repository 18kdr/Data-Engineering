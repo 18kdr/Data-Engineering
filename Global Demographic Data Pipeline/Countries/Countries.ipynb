{
 "cells": [
  {
   "cell_type": "markdown",
   "id": "ba2b531a",
   "metadata": {},
   "source": [
    "Countries Analysis"
   ]
  },
  {
   "cell_type": "code",
   "execution_count": 14,
   "id": "256741bf",
   "metadata": {},
   "outputs": [],
   "source": [
    "import pandas as pd\n",
    "import requests\n",
    "import json\n",
    "import awswrangler as wr"
   ]
  },
  {
   "cell_type": "code",
   "execution_count": 15,
   "id": "21ce7f7c",
   "metadata": {},
   "outputs": [],
   "source": [
    "# Fecthing the dat from api\n",
    "\n",
    "api_url = 'https://restcountries.com/v3.1/all'\n",
    "response = requests.get(api_url)\n",
    "data = response.json()"
   ]
  },
  {
   "cell_type": "code",
   "execution_count": 16,
   "id": "8325d102",
   "metadata": {},
   "outputs": [
    {
     "name": "stdout",
     "output_type": "stream",
     "text": [
      "<class 'pandas.core.frame.DataFrame'>\n",
      "RangeIndex: 250 entries, 0 to 249\n",
      "Columns: 897 entries, tld to languages.nau\n",
      "dtypes: bool(3), float64(20), int64(1), object(873)\n",
      "memory usage: 1.7+ MB\n"
     ]
    }
   ],
   "source": [
    "# normalizing the JSON data \n",
    "\n",
    "df = pd.json_normalize(data)\n",
    "df.info()"
   ]
  },
  {
   "cell_type": "code",
   "execution_count": 17,
   "id": "d237ca4c",
   "metadata": {},
   "outputs": [],
   "source": [
    "# Dropping the unecessary columns \n",
    "\n",
    "# Multi column dropping\n",
    "df_cols_to_drop = [col for col in df.columns if 'demonyms' in col or 'translations' in col or 'currencies' in col or 'coatOfArms' in col or 'postalCode' in col or 'name.nativeName' in col or 'name.tsn' in col or 'idd' in col or 'altSpellings' in col or 'gini' in col  or 'languages' in col]\n",
    "df.drop(columns=df_cols_to_drop, inplace=True)\n",
    "\n",
    "# Single column dropping \n",
    "df.drop(columns='flag', inplace = True)\n"
   ]
  },
  {
   "cell_type": "code",
   "execution_count": 18,
   "id": "51608137",
   "metadata": {},
   "outputs": [],
   "source": [
    "# No concatenating of outputs\n",
    "pd.set_option('display.max_colwidth', None)\n",
    "pd.set_option('display.width', None)\n",
    "pd.set_option('display.max_columns', None)\n",
    "pd.set_option('display.max_seq_item', None)"
   ]
  },
  {
   "cell_type": "code",
   "execution_count": 19,
   "id": "df527883",
   "metadata": {},
   "outputs": [
    {
     "data": {
      "text/html": [
       "<div>\n",
       "<style scoped>\n",
       "    .dataframe tbody tr th:only-of-type {\n",
       "        vertical-align: middle;\n",
       "    }\n",
       "\n",
       "    .dataframe tbody tr th {\n",
       "        vertical-align: top;\n",
       "    }\n",
       "\n",
       "    .dataframe thead th {\n",
       "        text-align: right;\n",
       "    }\n",
       "</style>\n",
       "<table border=\"1\" class=\"dataframe\">\n",
       "  <thead>\n",
       "    <tr style=\"text-align: right;\">\n",
       "      <th></th>\n",
       "      <th>tld</th>\n",
       "      <th>cca2</th>\n",
       "      <th>ccn3</th>\n",
       "      <th>cioc</th>\n",
       "      <th>independent</th>\n",
       "      <th>status</th>\n",
       "      <th>unMember</th>\n",
       "      <th>capital</th>\n",
       "      <th>region</th>\n",
       "      <th>subregion</th>\n",
       "      <th>latlng</th>\n",
       "      <th>landlocked</th>\n",
       "      <th>borders</th>\n",
       "      <th>area</th>\n",
       "      <th>cca3</th>\n",
       "      <th>population</th>\n",
       "      <th>fifa</th>\n",
       "      <th>timezones</th>\n",
       "      <th>continents</th>\n",
       "      <th>startOfWeek</th>\n",
       "      <th>name.common</th>\n",
       "      <th>name.official</th>\n",
       "      <th>maps.googleMaps</th>\n",
       "      <th>maps.openStreetMaps</th>\n",
       "      <th>car.signs</th>\n",
       "      <th>car.side</th>\n",
       "      <th>flags.png</th>\n",
       "      <th>flags.svg</th>\n",
       "      <th>flags.alt</th>\n",
       "      <th>capitalInfo.latlng</th>\n",
       "    </tr>\n",
       "  </thead>\n",
       "  <tbody>\n",
       "    <tr>\n",
       "      <th>0</th>\n",
       "      <td>.er</td>\n",
       "      <td>ER</td>\n",
       "      <td>232</td>\n",
       "      <td>ERI</td>\n",
       "      <td>True</td>\n",
       "      <td>officially-assigned</td>\n",
       "      <td>True</td>\n",
       "      <td>Asmara</td>\n",
       "      <td>Africa</td>\n",
       "      <td>Eastern Africa</td>\n",
       "      <td>15.0, 39.0</td>\n",
       "      <td>False</td>\n",
       "      <td>DJI, ETH, SDN</td>\n",
       "      <td>117600.0</td>\n",
       "      <td>ERI</td>\n",
       "      <td>5352000</td>\n",
       "      <td>ERI</td>\n",
       "      <td>UTC+03:00</td>\n",
       "      <td>Africa</td>\n",
       "      <td>monday</td>\n",
       "      <td>Eritrea</td>\n",
       "      <td>State of Eritrea</td>\n",
       "      <td>https://goo.gl/maps/HRyqUpnPwwG6jY5j6</td>\n",
       "      <td>https://www.openstreetmap.org/relation/296961</td>\n",
       "      <td>ER</td>\n",
       "      <td>right</td>\n",
       "      <td>https://flagcdn.com/w320/er.png</td>\n",
       "      <td>https://flagcdn.com/er.svg</td>\n",
       "      <td>The flag of Eritrea comprises three triangles — a large red isosceles triangle with its base spanning the hoist end and its apex at the midpoint on the fly end, and a green and blue right-angled triangle above and beneath the red triangle. On the hoist side of the red triangle is a golden vertical olive branch encircled by a golden olive wreath.</td>\n",
       "      <td>15.33, 38.93</td>\n",
       "    </tr>\n",
       "  </tbody>\n",
       "</table>\n",
       "</div>"
      ],
      "text/plain": [
       "   tld cca2 ccn3 cioc independent               status unMember capital  \\\n",
       "0  .er   ER  232  ERI        True  officially-assigned     True  Asmara   \n",
       "\n",
       "   region       subregion      latlng landlocked        borders      area  \\\n",
       "0  Africa  Eastern Africa  15.0, 39.0      False  DJI, ETH, SDN  117600.0   \n",
       "\n",
       "  cca3 population fifa  timezones continents startOfWeek name.common  \\\n",
       "0  ERI    5352000  ERI  UTC+03:00     Africa      monday     Eritrea   \n",
       "\n",
       "      name.official                        maps.googleMaps  \\\n",
       "0  State of Eritrea  https://goo.gl/maps/HRyqUpnPwwG6jY5j6   \n",
       "\n",
       "                             maps.openStreetMaps car.signs car.side  \\\n",
       "0  https://www.openstreetmap.org/relation/296961        ER    right   \n",
       "\n",
       "                         flags.png                   flags.svg  \\\n",
       "0  https://flagcdn.com/w320/er.png  https://flagcdn.com/er.svg   \n",
       "\n",
       "                                                                                                                                                                                                                                                                                                                                                     flags.alt  \\\n",
       "0  The flag of Eritrea comprises three triangles — a large red isosceles triangle with its base spanning the hoist end and its apex at the midpoint on the fly end, and a green and blue right-angled triangle above and beneath the red triangle. On the hoist side of the red triangle is a golden vertical olive branch encircled by a golden olive wreath.   \n",
       "\n",
       "  capitalInfo.latlng  \n",
       "0       15.33, 38.93  "
      ]
     },
     "execution_count": 19,
     "metadata": {},
     "output_type": "execute_result"
    }
   ],
   "source": [
    "# Single column cleaning\n",
    "\n",
    "df['continents'] = df[\"continents\"].astype(str).str.strip('[]\\'')\n",
    "df['capital'] = df[\"capital\"].apply(str).str.strip('[]\\'\\\"')\n",
    "\n",
    "# Apply to the whole of dataframe\n",
    "for col in df.columns:\n",
    "    df[col] = df[col].apply(lambda col: str(col).strip('[]\\'\\\"'))\n",
    "\n",
    "df['borders'] = df['borders'].astype(str).str.replace(\"'\",\"\",regex= False)\n",
    "\n",
    "df.head(1)"
   ]
  },
  {
   "cell_type": "code",
   "execution_count": 20,
   "id": "25821c98",
   "metadata": {},
   "outputs": [
    {
     "data": {
      "text/html": [
       "<div>\n",
       "<style scoped>\n",
       "    .dataframe tbody tr th:only-of-type {\n",
       "        vertical-align: middle;\n",
       "    }\n",
       "\n",
       "    .dataframe tbody tr th {\n",
       "        vertical-align: top;\n",
       "    }\n",
       "\n",
       "    .dataframe thead th {\n",
       "        text-align: right;\n",
       "    }\n",
       "</style>\n",
       "<table border=\"1\" class=\"dataframe\">\n",
       "  <thead>\n",
       "    <tr style=\"text-align: right;\">\n",
       "      <th></th>\n",
       "      <th>tld</th>\n",
       "      <th>cca2</th>\n",
       "      <th>ccn3</th>\n",
       "      <th>cioc</th>\n",
       "      <th>independent</th>\n",
       "      <th>status</th>\n",
       "      <th>unMember</th>\n",
       "      <th>capital</th>\n",
       "      <th>region</th>\n",
       "      <th>subregion</th>\n",
       "      <th>landlocked</th>\n",
       "      <th>borders</th>\n",
       "      <th>area</th>\n",
       "      <th>cca3</th>\n",
       "      <th>population</th>\n",
       "      <th>fifa</th>\n",
       "      <th>timezones</th>\n",
       "      <th>continents</th>\n",
       "      <th>startOfWeek</th>\n",
       "      <th>name.common</th>\n",
       "      <th>name.official</th>\n",
       "      <th>maps.googleMaps</th>\n",
       "      <th>maps.openStreetMaps</th>\n",
       "      <th>car.signs</th>\n",
       "      <th>car.side</th>\n",
       "      <th>flags.png</th>\n",
       "      <th>flags.svg</th>\n",
       "      <th>flags.alt</th>\n",
       "      <th>capitalInfo.latlng</th>\n",
       "      <th>Latitude</th>\n",
       "      <th>Longitude</th>\n",
       "      <th>Capital latitude</th>\n",
       "      <th>Capital Longitude</th>\n",
       "    </tr>\n",
       "  </thead>\n",
       "  <tbody>\n",
       "    <tr>\n",
       "      <th>0</th>\n",
       "      <td>.er</td>\n",
       "      <td>ER</td>\n",
       "      <td>232</td>\n",
       "      <td>ERI</td>\n",
       "      <td>True</td>\n",
       "      <td>officially-assigned</td>\n",
       "      <td>True</td>\n",
       "      <td>Asmara</td>\n",
       "      <td>Africa</td>\n",
       "      <td>Eastern Africa</td>\n",
       "      <td>False</td>\n",
       "      <td>DJI, ETH, SDN</td>\n",
       "      <td>117600.0</td>\n",
       "      <td>ERI</td>\n",
       "      <td>5352000</td>\n",
       "      <td>ERI</td>\n",
       "      <td>UTC+03:00</td>\n",
       "      <td>Africa</td>\n",
       "      <td>monday</td>\n",
       "      <td>Eritrea</td>\n",
       "      <td>State of Eritrea</td>\n",
       "      <td>https://goo.gl/maps/HRyqUpnPwwG6jY5j6</td>\n",
       "      <td>https://www.openstreetmap.org/relation/296961</td>\n",
       "      <td>ER</td>\n",
       "      <td>right</td>\n",
       "      <td>https://flagcdn.com/w320/er.png</td>\n",
       "      <td>https://flagcdn.com/er.svg</td>\n",
       "      <td>The flag of Eritrea comprises three triangles — a large red isosceles triangle with its base spanning the hoist end and its apex at the midpoint on the fly end, and a green and blue right-angled triangle above and beneath the red triangle. On the hoist side of the red triangle is a golden vertical olive branch encircled by a golden olive wreath.</td>\n",
       "      <td>15.33, 38.93</td>\n",
       "      <td>15.0</td>\n",
       "      <td>39.0</td>\n",
       "      <td>15.33</td>\n",
       "      <td>38.93</td>\n",
       "    </tr>\n",
       "  </tbody>\n",
       "</table>\n",
       "</div>"
      ],
      "text/plain": [
       "   tld cca2 ccn3 cioc independent               status unMember capital  \\\n",
       "0  .er   ER  232  ERI        True  officially-assigned     True  Asmara   \n",
       "\n",
       "   region       subregion landlocked        borders      area cca3 population  \\\n",
       "0  Africa  Eastern Africa      False  DJI, ETH, SDN  117600.0  ERI    5352000   \n",
       "\n",
       "  fifa  timezones continents startOfWeek name.common     name.official  \\\n",
       "0  ERI  UTC+03:00     Africa      monday     Eritrea  State of Eritrea   \n",
       "\n",
       "                         maps.googleMaps  \\\n",
       "0  https://goo.gl/maps/HRyqUpnPwwG6jY5j6   \n",
       "\n",
       "                             maps.openStreetMaps car.signs car.side  \\\n",
       "0  https://www.openstreetmap.org/relation/296961        ER    right   \n",
       "\n",
       "                         flags.png                   flags.svg  \\\n",
       "0  https://flagcdn.com/w320/er.png  https://flagcdn.com/er.svg   \n",
       "\n",
       "                                                                                                                                                                                                                                                                                                                                                     flags.alt  \\\n",
       "0  The flag of Eritrea comprises three triangles — a large red isosceles triangle with its base spanning the hoist end and its apex at the midpoint on the fly end, and a green and blue right-angled triangle above and beneath the red triangle. On the hoist side of the red triangle is a golden vertical olive branch encircled by a golden olive wreath.   \n",
       "\n",
       "  capitalInfo.latlng Latitude Longitude Capital latitude Capital Longitude  \n",
       "0       15.33, 38.93     15.0      39.0            15.33             38.93  "
      ]
     },
     "execution_count": 20,
     "metadata": {},
     "output_type": "execute_result"
    }
   ],
   "source": [
    "# Splitting of column in seperate for expansion of columns\n",
    "\n",
    "df[['Latitude', 'Longitude']] = df['latlng'].str.split(',', n = 1, expand = True)\n",
    "df[['Capital latitude', 'Capital Longitude']] = df['capitalInfo.latlng'].str.split(',', n = 1, expand = True)\n",
    "\n",
    "\n",
    "columnsDropped = ['latlng', 'capitalInfo.latlng']\n",
    "df.drop(columns = 'latlng', inplace = True)\n",
    "df.head(1)"
   ]
  },
  {
   "cell_type": "code",
   "execution_count": 21,
   "id": "529cfd09",
   "metadata": {},
   "outputs": [],
   "source": [
    "# Capital first letter in startOfWeek Column\n",
    "\n",
    "def weekConversion(days):\n",
    "    weekday = \"\"\n",
    "    for i in range(0,len(days)):\n",
    "        if i == 0:\n",
    "            i = str(days[i]).upper()\n",
    "            weekday += i\n",
    "        else:\n",
    "            weekday += days[i]\n",
    "    return weekday\n",
    "    \n",
    "df['startOfWeek'] = df['startOfWeek'].apply(weekConversion)"
   ]
  },
  {
   "cell_type": "code",
   "execution_count": 22,
   "id": "4499e5b2",
   "metadata": {},
   "outputs": [
    {
     "data": {
      "text/plain": [
       "officially-assigned    249\n",
       "user-assigned            1\n",
       "Name: status, dtype: int64"
      ]
     },
     "execution_count": 22,
     "metadata": {},
     "output_type": "execute_result"
    }
   ],
   "source": [
    "df['status'].value_counts()"
   ]
  },
  {
   "cell_type": "code",
   "execution_count": 23,
   "id": "f69e1906",
   "metadata": {},
   "outputs": [],
   "source": [
    "df_cleaned_data = df.copy()"
   ]
  },
  {
   "cell_type": "code",
   "execution_count": null,
   "id": "55aa426e",
   "metadata": {},
   "outputs": [
    {
     "data": {
      "text/plain": [
       "{'paths': ['s3://countrystore1/projdata/cleanedData.parquet'],\n",
       " 'partitions_values': {}}"
      ]
     },
     "execution_count": 24,
     "metadata": {},
     "output_type": "execute_result"
    }
   ],
   "source": [
    "wr.s3.to_parquet(df_cleaned_data,path=\"s3_file_path\",index=False)"
   ]
  },
  {
   "cell_type": "code",
   "execution_count": null,
   "id": "51d9e249",
   "metadata": {},
   "outputs": [
    {
     "name": "stdout",
     "output_type": "stream",
     "text": [
      "   tld cca2 ccn3 cioc independent               status unMember    capital  \\\n",
      "0  .er   ER  232  ERI        True  officially-assigned     True     Asmara   \n",
      "1  .cm   CM  120  CMR        True  officially-assigned     True    Yaoundé   \n",
      "2  .me   ME  499  MNE        True  officially-assigned     True  Podgorica   \n",
      "3  .fj   FJ  242  FIJ        True  officially-assigned     True       Suva   \n",
      "4  .tn   TN  788  TUN        True  officially-assigned     True      Tunis   \n",
      "\n",
      "    region         subregion landlocked                       borders  \\\n",
      "0   Africa    Eastern Africa      False                 DJI, ETH, SDN   \n",
      "1   Africa     Middle Africa      False  CAF, TCD, COG, GNQ, GAB, NGA   \n",
      "2   Europe  Southeast Europe      False       ALB, BIH, HRV, UNK, SRB   \n",
      "3  Oceania         Melanesia      False                           nan   \n",
      "4   Africa   Northern Africa      False                      DZA, LBY   \n",
      "\n",
      "       area cca3 population fifa  timezones continents startOfWeek  \\\n",
      "0  117600.0  ERI    5352000  ERI  UTC+03:00     Africa      Monday   \n",
      "1  475442.0  CMR   26545864  CMR  UTC+01:00     Africa      Monday   \n",
      "2   13812.0  MNE     621718  MNE  UTC+01:00     Europe      Monday   \n",
      "3   18272.0  FJI     896444  FIJ  UTC+12:00    Oceania      Monday   \n",
      "4  163610.0  TUN   11818618  TUN  UTC+01:00     Africa      Monday   \n",
      "\n",
      "  name.common         name.official                        maps.googleMaps  \\\n",
      "0     Eritrea      State of Eritrea  https://goo.gl/maps/HRyqUpnPwwG6jY5j6   \n",
      "1    Cameroon  Republic of Cameroon  https://goo.gl/maps/JqiipHgFboG3rBJh9   \n",
      "2  Montenegro            Montenegro  https://goo.gl/maps/4THX1fM7WqANuPbB8   \n",
      "3        Fiji      Republic of Fiji  https://goo.gl/maps/r9fhDqoLZdg1zmE99   \n",
      "4     Tunisia     Tunisian Republic  https://goo.gl/maps/KgUmpZdUuNRaougs8   \n",
      "\n",
      "                             maps.openStreetMaps car.signs car.side  \\\n",
      "0  https://www.openstreetmap.org/relation/296961        ER    right   \n",
      "1  https://www.openstreetmap.org/relation/192830       CAM    right   \n",
      "2   https://www.openstreetmap.org/relation/53296       SCG    right   \n",
      "3  https://www.openstreetmap.org/relation/571747       FJI     left   \n",
      "4  https://www.openstreetmap.org/relation/192757        TN    right   \n",
      "\n",
      "                         flags.png                   flags.svg  \\\n",
      "0  https://flagcdn.com/w320/er.png  https://flagcdn.com/er.svg   \n",
      "1  https://flagcdn.com/w320/cm.png  https://flagcdn.com/cm.svg   \n",
      "2  https://flagcdn.com/w320/me.png  https://flagcdn.com/me.svg   \n",
      "3  https://flagcdn.com/w320/fj.png  https://flagcdn.com/fj.svg   \n",
      "4  https://flagcdn.com/w320/tn.png  https://flagcdn.com/tn.svg   \n",
      "\n",
      "                                                                                                                                                                                                                                                                                                                                                     flags.alt  \\\n",
      "0  The flag of Eritrea comprises three triangles — a large red isosceles triangle with its base spanning the hoist end and its apex at the midpoint on the fly end, and a green and blue right-angled triangle above and beneath the red triangle. On the hoist side of the red triangle is a golden vertical olive branch encircled by a golden olive wreath.   \n",
      "1                                                                                                                                                                                                                      The flag of Cameroon is composed of three equal vertical bands of green, red and yellow, with a yellow five-pointed star in the center.   \n",
      "2                                                                                                                                                                                  The flag of Montenegro features a large red central rectangular area surrounded by a golden-yellow border. The coat of arms of Montenegro is centered in the red rectangle.   \n",
      "3                                                                                                                                                                   The flag of Fiji has a light blue field. It features the flag of the United Kingdom — the Union Jack — in the canton and the shield of the national coat of arms centered in the fly half.   \n",
      "4                                                                                                                                                                                            The flag of Tunisia has a red field. A white circle bearing a five-pointed red star within a fly-side facing red crescent is situated at the center of the field.   \n",
      "\n",
      "  capitalInfo.latlng  Latitude Longitude Capital_latitude Capital_Longitude  \n",
      "0       15.33, 38.93      15.0      39.0            15.33             38.93  \n",
      "1         3.85, 11.5       6.0      12.0             3.85              11.5  \n",
      "2       42.43, 19.27      42.5      19.3            42.43             19.27  \n",
      "3     -18.13, 178.42  -17.7134   178.065           -18.13            178.42  \n",
      "4        36.8, 10.18      34.0       9.0             36.8             10.18  \n"
     ]
    }
   ],
   "source": [
    "\n",
    "# Read from S3\n",
    "df_New = wr.s3.read_parquet(\"s3_file_Path\")\n",
    "print(df_New.head())\n"
   ]
  }
 ],
 "metadata": {
  "kernelspec": {
   "display_name": "Python 3",
   "language": "python",
   "name": "python3"
  },
  "language_info": {
   "codemirror_mode": {
    "name": "ipython",
    "version": 3
   },
   "file_extension": ".py",
   "mimetype": "text/x-python",
   "name": "python",
   "nbconvert_exporter": "python",
   "pygments_lexer": "ipython3",
   "version": "3.10.1"
  }
 },
 "nbformat": 4,
 "nbformat_minor": 5
}
