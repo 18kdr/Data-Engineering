{
 "cells": [
  {
   "cell_type": "markdown",
   "id": "356562b8",
   "metadata": {},
   "source": [
    "TECH JOB ANALYSIS - [OCT 2024 - Mar 2025 (Last updated)] "
   ]
  },
  {
   "cell_type": "code",
   "execution_count": 194,
   "id": "4f93a26d",
   "metadata": {},
   "outputs": [],
   "source": [
    "# Import all the libraries/packages\n",
    "import pandas as pd\n",
    "import numpy as np\n",
    "import matplotlib.pyplot as plt"
   ]
  },
  {
   "cell_type": "code",
   "execution_count": 195,
   "id": "a073a0bd",
   "metadata": {},
   "outputs": [],
   "source": [
    "# Load the data from the Excel file\n",
    "file_path = r'C:\\Users\\Kartikay\\Desktop\\Data Engineering Docs\\Tech Jobs\\all_jobs.xlsx'\n",
    "data_csv = pd.read_excel(file_path, sheet_name='Sheet1')"
   ]
  },
  {
   "cell_type": "code",
   "execution_count": 196,
   "id": "cc8f3a74",
   "metadata": {},
   "outputs": [
    {
     "name": "stdout",
     "output_type": "stream",
     "text": [
      "<class 'pandas.core.frame.DataFrame'>\n",
      "RangeIndex: 94529 entries, 0 to 94528\n",
      "Data columns (total 36 columns):\n",
      " #   Column                 Non-Null Count  Dtype         \n",
      "---  ------                 --------------  -----         \n",
      " 0   Unnamed: 0.2           94529 non-null  int64         \n",
      " 1   Unnamed: 0.1           94529 non-null  int64         \n",
      " 2   Unnamed: 0             94529 non-null  int64         \n",
      " 3   id                     94529 non-null  object        \n",
      " 4   site                   94529 non-null  object        \n",
      " 5   job_url                94529 non-null  object        \n",
      " 6   job_url_direct         60491 non-null  object        \n",
      " 7   title                  94529 non-null  object        \n",
      " 8   company                93220 non-null  object        \n",
      " 9   location               94086 non-null  object        \n",
      " 10  job_type               51639 non-null  object        \n",
      " 11  date_posted            94529 non-null  datetime64[ns]\n",
      " 12  salary_source          72422 non-null  object        \n",
      " 13  interval               75189 non-null  object        \n",
      " 14  min_amount             72423 non-null  float64       \n",
      " 15  max_amount             72422 non-null  float64       \n",
      " 16  currency               75188 non-null  object        \n",
      " 17  is_remote              63918 non-null  float64       \n",
      " 18  job_level              5 non-null      object        \n",
      " 19  job_function           5 non-null      object        \n",
      " 20  company_industry       14692 non-null  object        \n",
      " 21  listing_type           34038 non-null  object        \n",
      " 22  emails                 10804 non-null  object        \n",
      " 23  description            94529 non-null  object        \n",
      " 24  company_url            62258 non-null  object        \n",
      " 25  company_url_direct     45832 non-null  object        \n",
      " 26  company_addresses      43036 non-null  object        \n",
      " 27  company_num_employees  43130 non-null  object        \n",
      " 28  company_revenue        37577 non-null  object        \n",
      " 29  company_description    32818 non-null  object        \n",
      " 30  logo_photo_url         45073 non-null  object        \n",
      " 31  banner_photo_url       34670 non-null  object        \n",
      " 32  ceo_name               32365 non-null  object        \n",
      " 33  ceo_photo_url          26344 non-null  object        \n",
      " 34  mean_salary            72422 non-null  float64       \n",
      " 35  cleaned_description    94529 non-null  object        \n",
      "dtypes: datetime64[ns](1), float64(4), int64(3), object(28)\n",
      "memory usage: 26.0+ MB\n"
     ]
    }
   ],
   "source": [
    "# Added this Non-null, Count and data type\n",
    "data_csv.info()"
   ]
  },
  {
   "cell_type": "code",
   "execution_count": 197,
   "id": "423fcbd3",
   "metadata": {},
   "outputs": [
    {
     "data": {
      "text/plain": [
       "Unnamed: 0.2                 0\n",
       "Unnamed: 0.1                 0\n",
       "Unnamed: 0                   0\n",
       "id                           0\n",
       "site                         0\n",
       "job_url                      0\n",
       "job_url_direct           34038\n",
       "title                        0\n",
       "company                   1309\n",
       "location                   443\n",
       "job_type                 42890\n",
       "date_posted                  0\n",
       "salary_source            22107\n",
       "interval                 19340\n",
       "min_amount               22106\n",
       "max_amount               22107\n",
       "currency                 19341\n",
       "is_remote                30611\n",
       "job_level                94524\n",
       "job_function             94524\n",
       "company_industry         79837\n",
       "listing_type             60491\n",
       "emails                   83725\n",
       "description                  0\n",
       "company_url              32271\n",
       "company_url_direct       48697\n",
       "company_addresses        51493\n",
       "company_num_employees    51399\n",
       "company_revenue          56952\n",
       "company_description      61711\n",
       "logo_photo_url           49456\n",
       "banner_photo_url         59859\n",
       "ceo_name                 62164\n",
       "ceo_photo_url            68185\n",
       "mean_salary              22107\n",
       "cleaned_description          0\n",
       "dtype: int64"
      ]
     },
     "execution_count": 197,
     "metadata": {},
     "output_type": "execute_result"
    }
   ],
   "source": [
    "# Count of missing values per column\n",
    "data_csv.isnull().sum()"
   ]
  },
  {
   "cell_type": "code",
   "execution_count": 198,
   "id": "8b7b28af",
   "metadata": {},
   "outputs": [
    {
     "name": "stdout",
     "output_type": "stream",
     "text": [
      "<class 'pandas.core.frame.DataFrame'>\n",
      "RangeIndex: 94529 entries, 0 to 94528\n",
      "Data columns (total 23 columns):\n",
      " #   Column               Non-Null Count  Dtype         \n",
      "---  ------               --------------  -----         \n",
      " 0   id                   94529 non-null  object        \n",
      " 1   site                 94529 non-null  object        \n",
      " 2   job_url              94529 non-null  object        \n",
      " 3   job_url_direct       60491 non-null  object        \n",
      " 4   title                94529 non-null  object        \n",
      " 5   company              93220 non-null  object        \n",
      " 6   location             94086 non-null  object        \n",
      " 7   job_type             51639 non-null  object        \n",
      " 8   date_posted          94529 non-null  datetime64[ns]\n",
      " 9   salary_source        72422 non-null  object        \n",
      " 10  interval             75189 non-null  object        \n",
      " 11  min_amount           72423 non-null  float64       \n",
      " 12  max_amount           72422 non-null  float64       \n",
      " 13  currency             75188 non-null  object        \n",
      " 14  is_remote            63918 non-null  float64       \n",
      " 15  company_industry     14692 non-null  object        \n",
      " 16  listing_type         34038 non-null  object        \n",
      " 17  emails               10804 non-null  object        \n",
      " 18  description          94529 non-null  object        \n",
      " 19  company_url          62258 non-null  object        \n",
      " 20  company_url_direct   45832 non-null  object        \n",
      " 21  mean_salary          72422 non-null  float64       \n",
      " 22  cleaned_description  94529 non-null  object        \n",
      "dtypes: datetime64[ns](1), float64(4), object(18)\n",
      "memory usage: 16.6+ MB\n"
     ]
    }
   ],
   "source": [
    "# Drop the unnecessary columns\n",
    "data_csv = data_csv.drop(['Unnamed: 0.2','Unnamed: 0.1', 'Unnamed: 0','job_level','job_function','company_addresses', 'company_num_employees', 'company_revenue', 'company_description', 'logo_photo_url', 'banner_photo_url','ceo_name','ceo_photo_url'], axis=1)\n",
    "data_csv.info()"
   ]
  },
  {
   "cell_type": "markdown",
   "id": "0383bd9b",
   "metadata": {},
   "source": [
    "Goal - 1 - Gain insights on job type"
   ]
  },
  {
   "cell_type": "code",
   "execution_count": 199,
   "id": "45e816f7",
   "metadata": {},
   "outputs": [
    {
     "data": {
      "text/plain": [
       "fulltime                                               43156\n",
       "contract                                                4007\n",
       "fulltime, contract                                      1462\n",
       "parttime                                                 801\n",
       "internship                                               713\n",
       "parttime, fulltime                                       426\n",
       "fulltime, internship                                     255\n",
       "other                                                    166\n",
       "temporary                                                151\n",
       "temporary, fulltime                                      106\n",
       "parttime, contract                                        73\n",
       "temporary, contract                                       68\n",
       "parttime, fulltime, contract                              49\n",
       "parttime, internship                                      41\n",
       "temporary, fulltime, contract                             34\n",
       "parttime, fulltime, internship                            28\n",
       "temporary, parttime                                       19\n",
       "temporary, parttime, fulltime, contract                   13\n",
       "perdiem                                                   11\n",
       "temporary, parttime, contract                             10\n",
       "temporary, parttime, fulltime, contract, internship        9\n",
       "temporary, internship                                      8\n",
       "temporary, fulltime, internship                            7\n",
       "contract, internship                                       7\n",
       "temporary, parttime, fulltime                              4\n",
       "parttime, contract, internship                             3\n",
       "temporary, parttime, internship                            2\n",
       "fulltime, contract, internship                             2\n",
       "temporary, contract, internship                            2\n",
       "parttime, fulltime, contract, internship                   2\n",
       "parttime, fulltime, volunteer                              1\n",
       "temporary, parttime, fulltime, internship                  1\n",
       "fulltime, perdiem                                          1\n",
       "temporary, parttime, contract, internship                  1\n",
       "Name: job_type, dtype: int64"
      ]
     },
     "execution_count": 199,
     "metadata": {},
     "output_type": "execute_result"
    }
   ],
   "source": [
    "data_csv['job_type'].value_counts()"
   ]
  },
  {
   "cell_type": "code",
   "execution_count": 200,
   "id": "3de827a6",
   "metadata": {},
   "outputs": [
    {
     "data": {
      "image/png": "[encoded data removed]",
      "text/plain": [
       "<Figure size 432x288 with 1 Axes>"
      ]
     },
     "metadata": {
      "needs_background": "light"
     },
     "output_type": "display_data"
    }
   ],
   "source": [
    "data_csv_job = data_csv.copy()\n",
    "\n",
    "def categorize_job_type(job):\n",
    "    job = str(job).lower()\n",
    "    categories = []\n",
    "\n",
    "    if 'full' in job:\n",
    "        categories.append('Full Time')\n",
    "    if 'part' in job:\n",
    "        categories.append('Part Time')\n",
    "    if 'temporary' in job or 'contract' in job or 'internship' in job:\n",
    "        categories.append('Contract')\n",
    "\n",
    "    return categories \n",
    "\n",
    "# Apply function to your DataFrame\n",
    "data_csv_job['job_category'] = data_csv_job['job_type'].apply(categorize_job_type)\n",
    "\n",
    "# Explode to separate rows if multiple categories per job\n",
    "data_csv_job = data_csv_job[data_csv_job['job_category'].apply(bool)]  # Remove empty lists\n",
    "data_csv_exploded = data_csv_job.explode('job_category')\n",
    "job_type_counts = data_csv_exploded['job_category'].value_counts()\n",
    "\n",
    "# Plotting\n",
    "bars = plt.bar(job_type_counts.index, job_type_counts.values)\n",
    "plt.title('Job Type Distribution')\n",
    "plt.xlabel('Job Type')\n",
    "plt.xticks(rotation=15)\n",
    "plt.bar_label(bars, labels=job_type_counts.values, padding=8, fontsize=10)\n",
    "plt.ylabel('Number of Jobs')\n",
    "plt.ylim(0, max(job_type_counts.values) * 1.2)\n",
    "plt.show()\n"
   ]
  },
  {
   "cell_type": "markdown",
   "id": "78243360",
   "metadata": {},
   "source": [
    "Goal - 2 - Job location\n"
   ]
  },
  {
   "cell_type": "code",
   "execution_count": 201,
   "id": "26e1a3e6",
   "metadata": {},
   "outputs": [
    {
     "name": "stdout",
     "output_type": "stream",
     "text": [
      "CA        16998\n",
      "TX         8503\n",
      "Remote     7266\n",
      "VA         5543\n",
      "WA         5198\n",
      "NY         3557\n",
      "MD         2900\n",
      "CO         2806\n",
      "FL         2792\n",
      "IL         2456\n",
      "Name: State, dtype: int64\n"
     ]
    }
   ],
   "source": [
    "data_csv_location = data_csv.copy()\n",
    "\n",
    "#Dropped null location values\n",
    "data_csv_location = data_csv_location.dropna(subset=['location'])\n",
    "\n",
    "#Splitting of location column in city, state and country\n",
    "data_csv_location[['City','State','Country']] = data_csv_location['location'].str.rsplit(',', n=2,expand=True)\n",
    "\n",
    "#Removal of whitespaces\n",
    "data_csv_location['Country'] = data_csv_location['Country'].str.strip()\n",
    "#data_csv_location[['City','State','Country']].value_counts().head(50)\n",
    "data_csv_location['Country'].unique()\n",
    "\n",
    "def countryCleaning(country):\n",
    "    if country == 'USA':\n",
    "        return 'US'\n",
    "\n",
    "\n",
    "data_csv_location['Country'].apply(countryCleaning)\n",
    "\n",
    "data_csv_location['Country'] = data_csv_location['Country'].fillna('US')\n",
    "data_csv_location['Country'] = data_csv_location['Country'].replace('US','USA')\n",
    "data_csv_location = data_csv_location[data_csv_location['Country'].isin(['USA'])]\n",
    "data_csv_location['Country'].value_counts()\n",
    "data_csv_location['State'] = data_csv_location['State'].str.strip()\n",
    "data_csv_location['State'] = data_csv_location['State'].replace('US', 'Remote')\n",
    "job_loaction = data_csv_location['State'].value_counts().head(10)\n",
    "print(job_loaction)\n",
    "\n",
    "\n",
    "#data_csv['location'].apply(lambda x: len(str(x).split(','))).value_counts()\n"
   ]
  },
  {
   "cell_type": "code",
   "execution_count": 202,
   "id": "cc6d5547",
   "metadata": {},
   "outputs": [
    {
     "data": {
      "text/plain": [
       "<Figure size 1800x720 with 0 Axes>"
      ]
     },
     "metadata": {},
     "output_type": "display_data"
    },
    {
     "data": {
      "image/png": "[encoded data removed]",
      "text/plain": [
       "<Figure size 576x576 with 1 Axes>"
      ]
     },
     "metadata": {},
     "output_type": "display_data"
    },
    {
     "data": {
      "text/plain": [
       "\"\\nplt.title('Job Type Distribution')\\nplt.xlabel('States')\\n#plt.bar_label(bars, labels=job_loaction.values, padding=8, fontsize=10, rotation=90)\\nplt.ylabel('Number of Jobs')\\nplt.ylim(0, max(job_loaction.values) * 1.2)\\nplt.show()\\n\""
      ]
     },
     "execution_count": 202,
     "metadata": {},
     "output_type": "execute_result"
    }
   ],
   "source": [
    "plt.figure(figsize=(25, 10)) \n",
    "#bars = plt.bar(job_loaction.index, job_loaction.values)\n",
    "plt.figure(figsize=(8, 8))\n",
    "plt.pie(\n",
    "    job_loaction.values,\n",
    "    labels=job_loaction.index,\n",
    "    autopct='%1.1f%%',\n",
    "    startangle=140\n",
    ")\n",
    "plt.title('Top 10 States by Job Count')\n",
    "plt.axis('equal')  # Equal aspect ratio ensures a perfect circle\n",
    "plt.show()\n",
    "'''\n",
    "plt.title('Job Type Distribution')\n",
    "plt.xlabel('States')\n",
    "#plt.bar_label(bars, labels=job_loaction.values, padding=8, fontsize=10, rotation=90)\n",
    "plt.ylabel('Number of Jobs')\n",
    "plt.ylim(0, max(job_loaction.values) * 1.2)\n",
    "plt.show()\n",
    "'''"
   ]
  }
 ],
 "metadata": {
  "kernelspec": {
   "display_name": "Python 3",
   "language": "python",
   "name": "python3"
  },
  "language_info": {
   "codemirror_mode": {
    "name": "ipython",
    "version": 3
   },
   "file_extension": ".py",
   "mimetype": "text/x-python",
   "name": "python",
   "nbconvert_exporter": "python",
   "pygments_lexer": "ipython3",
   "version": "3.10.1"
  }
 },
 "nbformat": 4,
 "nbformat_minor": 5
}
