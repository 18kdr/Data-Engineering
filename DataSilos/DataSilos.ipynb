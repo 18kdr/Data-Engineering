{
 "cells": [
  {
   "cell_type": "code",
   "execution_count": 26,
   "id": "3ada9322",
   "metadata": {},
   "outputs": [
    {
     "data": {
      "text/plain": [
       "['__builtins__',\n",
       " '__cached__',\n",
       " '__doc__',\n",
       " '__file__',\n",
       " '__loader__',\n",
       " '__name__',\n",
       " '__package__',\n",
       " '__spec__',\n",
       " '__warningregistry__',\n",
       " 'extract_csv',\n",
       " 'extract_json',\n",
       " 'extract_sql',\n",
       " 'merge_df',\n",
       " 'pd',\n",
       " 'psycopg2']"
      ]
     },
     "execution_count": 26,
     "metadata": {},
     "output_type": "execute_result"
    }
   ],
   "source": [
    "# Importing Libraries \n",
    "import pandas as pd\n",
    "import psycopg2\n",
    "import awswrangler as wr\n",
    "import extract_data\n",
    "\n",
    "dir(extract_data)"
   ]
  },
  {
   "cell_type": "markdown",
   "id": "ccbf0226",
   "metadata": {},
   "source": [
    "EXTRACTION"
   ]
  },
  {
   "cell_type": "code",
   "execution_count": 27,
   "id": "9a4e0396",
   "metadata": {},
   "outputs": [
    {
     "name": "stderr",
     "output_type": "stream",
     "text": [
      "c:\\Users\\Kartikay\\Desktop\\Data Engineering\\Data-Engineering\\DataSilos\\extract_data.py:16: UserWarning: pandas only supports SQLAlchemy connectable (engine/connection) or database string URI or sqlite3 DBAPI2 connection. Other DBAPI2 objects are not tested. Please consider using SQLAlchemy.\n",
      "  df_sql = pd.read_sql(query,con=conn1)\n"
     ]
    }
   ],
   "source": [
    "\n",
    "# File Paths\n",
    "csv_file_path = r'C:\\Users\\Kartikay\\Downloads\\MOCK_DATA_CSV.csv'\n",
    "json_path = r'C:\\Users\\Kartikay\\Downloads\\mock_data_json.json'\n",
    "\n",
    "# Calling the function in extract_data.py to extract data from different sources\n",
    "df_sql = extract_data.extract_sql(\n",
    "    dbname='data_silos',\n",
    "    user ='postgres',\n",
    "    password ='postgres',\n",
    "    host='localhost'\n",
    "    )\n",
    "df_csv = extract_data.extract_csv(csv_file_path)\n",
    "df_json =  extract_data.extract_json(json_path)\n",
    "\n",
    "# Consoliudating all the data sources into one common master dataframe \n",
    "df_master = extract_data.merge_df([df_sql, df_csv, df_json])"
   ]
  },
  {
   "cell_type": "markdown",
   "id": "0e10af26",
   "metadata": {},
   "source": [
    " TRANSFORMATION"
   ]
  },
  {
   "cell_type": "code",
   "execution_count": 28,
   "id": "afd0e25e",
   "metadata": {},
   "outputs": [
    {
     "name": "stdout",
     "output_type": "stream",
     "text": [
      "<class 'pandas.core.frame.DataFrame'>\n",
      "RangeIndex: 3000 entries, 0 to 2999\n",
      "Data columns (total 12 columns):\n",
      " #   Column               Non-Null Count  Dtype  \n",
      "---  ------               --------------  -----  \n",
      " 0   product_id           3000 non-null   int64  \n",
      " 1   product_name         3000 non-null   object \n",
      " 2   product_category     3000 non-null   object \n",
      " 3   product_price        2798 non-null   float64\n",
      " 4   product_description  1971 non-null   object \n",
      " 5   manufacturer         2770 non-null   object \n",
      " 6   stock_quantity       2252 non-null   float64\n",
      " 7   weight               1534 non-null   float64\n",
      " 8   color                2086 non-null   object \n",
      " 9   release_date         2462 non-null   object \n",
      " 10  expiry_date          2389 non-null   object \n",
      " 11  master_id            3000 non-null   int64  \n",
      "dtypes: float64(3), int64(2), object(7)\n",
      "memory usage: 281.4+ KB\n",
      "<class 'pandas.core.frame.DataFrame'>\n",
      "RangeIndex: 3000 entries, 0 to 2999\n",
      "Data columns (total 11 columns):\n",
      " #   Column               Non-Null Count  Dtype  \n",
      "---  ------               --------------  -----  \n",
      " 0   product_name         3000 non-null   object \n",
      " 1   product_category     3000 non-null   object \n",
      " 2   product_price        2798 non-null   float64\n",
      " 3   product_description  1971 non-null   object \n",
      " 4   manufacturer         2770 non-null   object \n",
      " 5   stock_quantity       2252 non-null   float64\n",
      " 6   weight               1534 non-null   float64\n",
      " 7   color                2086 non-null   object \n",
      " 8   release_date         2462 non-null   object \n",
      " 9   expiry_date          2389 non-null   object \n",
      " 10  master_id            3000 non-null   int64  \n",
      "dtypes: float64(3), int64(1), object(7)\n",
      "memory usage: 257.9+ KB\n"
     ]
    }
   ],
   "source": [
    "df_master.info()\n",
    "\n",
    "df_master = df_master.drop([\"product_id\"], axis = 1)\n",
    "\n",
    "df_master.info()\n"
   ]
  },
  {
   "cell_type": "code",
   "execution_count": 29,
   "id": "da68f9f5",
   "metadata": {},
   "outputs": [],
   "source": [
    "df_master['product_category'].unique()\n",
    "df_master[['product_category','product_sub_category']] = df_master['product_category'].str.split('-',n=1,expand = True) \n"
   ]
  },
  {
   "cell_type": "code",
   "execution_count": 30,
   "id": "9a831021",
   "metadata": {},
   "outputs": [],
   "source": [
    "# DROP release and expiry columns as data is skewed\n",
    "\n",
    "df_master.drop(['release_date', 'expiry_date', 'weight'], axis= 1, inplace = True)"
   ]
  },
  {
   "cell_type": "code",
   "execution_count": 31,
   "id": "5881882c",
   "metadata": {},
   "outputs": [
    {
     "data": {
      "text/plain": [
       "array(['Food', 'Clothing', 'Outdoor', 'Health', 'Photography', 'Pets',\n",
       "       'Kitchen', 'Home', 'Books', 'Storage', 'Office', 'Music',\n",
       "       'Accessories', 'Fitness', 'Automotive', 'Toys', 'Sports', 'Garden',\n",
       "       'Travel', 'Smart Home', 'Electronics', 'Audio', 'Gaming',\n",
       "       'Home Improvement', 'Beauty', 'Tools', 'Home Appliances',\n",
       "       'Furniture', 'Home Security', 'Footwear', 'Art Supplies', 'Crafts',\n",
       "       'Wearable Tech', 'Bicycles', 'Apps', 'Baby', 'Safety', 'Bathroom',\n",
       "       'Grooming'], dtype=object)"
      ]
     },
     "execution_count": 31,
     "metadata": {},
     "output_type": "execute_result"
    }
   ],
   "source": [
    "df_master['product_category'] = df_master['product_category'].str.strip()\n",
    "df_master['product_category'].unique()"
   ]
  },
  {
   "cell_type": "code",
   "execution_count": 32,
   "id": "ddfe7f9d",
   "metadata": {},
   "outputs": [],
   "source": [
    "# Filling the NA Values according to the most correct format prescribed\n",
    "df_master.fillna({\n",
    "    \"product_sub_category\": \"unknown\",\n",
    "    \"product_description\" : \"unknown\",\n",
    "    \"product_price\" : df_master['product_price'].median()\n",
    "}, inplace = True)"
   ]
  },
  {
   "cell_type": "code",
   "execution_count": 33,
   "id": "d7e705ff",
   "metadata": {},
   "outputs": [
    {
     "name": "stdout",
     "output_type": "stream",
     "text": [
      "<class 'pandas.core.frame.DataFrame'>\n",
      "RangeIndex: 3000 entries, 0 to 2999\n",
      "Data columns (total 9 columns):\n",
      " #   Column                Non-Null Count  Dtype  \n",
      "---  ------                --------------  -----  \n",
      " 0   product_name          3000 non-null   object \n",
      " 1   product_category      3000 non-null   object \n",
      " 2   product_price         3000 non-null   float64\n",
      " 3   product_description   3000 non-null   object \n",
      " 4   manufacturer          2770 non-null   object \n",
      " 5   stock_quantity        2252 non-null   float64\n",
      " 6   color                 2086 non-null   object \n",
      " 7   master_id             3000 non-null   int64  \n",
      " 8   product_sub_category  3000 non-null   object \n",
      "dtypes: float64(2), int64(1), object(6)\n",
      "memory usage: 211.1+ KB\n"
     ]
    }
   ],
   "source": [
    "df_master.info()"
   ]
  },
  {
   "cell_type": "code",
   "execution_count": 34,
   "id": "b1a9b40c",
   "metadata": {},
   "outputs": [
    {
     "data": {
      "text/plain": [
       "1000.0"
      ]
     },
     "execution_count": 34,
     "metadata": {},
     "output_type": "execute_result"
    }
   ],
   "source": [
    "df_master['stock_quantity'].max()"
   ]
  },
  {
   "cell_type": "markdown",
   "id": "f9c8ed79",
   "metadata": {},
   "source": [
    "VALIDATION"
   ]
  },
  {
   "cell_type": "code",
   "execution_count": 35,
   "id": "7ea49aaa",
   "metadata": {},
   "outputs": [],
   "source": [
    "import pandera.pandas as pa\n",
    "schema = pa.DataFrameSchema(\n",
    "    {\n",
    "        \"product_name\" : pa.Column(pa.String),\n",
    "        \"product_price\" : pa.Column(float,pa.Check.in_range(0,1000)),\n",
    "        \"stock_quantity\" : pa.Column(float,pa.Check.in_range(0,1000), nullable = True),\n",
    "        \"master_id\": pa.Column(pa.Int64,pa.Check.less_than_or_equal_to(3000))\n",
    "    }\n",
    ")\n",
    "\n",
    "validated_scheme = schema.validate(df_master)"
   ]
  },
  {
   "cell_type": "markdown",
   "id": "3787555c",
   "metadata": {},
   "source": [
    "LOAD"
   ]
  },
  {
   "cell_type": "code",
   "execution_count": 36,
   "id": "09b61446",
   "metadata": {},
   "outputs": [
    {
     "name": "stdout",
     "output_type": "stream",
     "text": [
      "<class 'pandas.core.frame.DataFrame'>\n",
      "RangeIndex: 3000 entries, 0 to 2999\n",
      "Data columns (total 9 columns):\n",
      " #   Column                Non-Null Count  Dtype  \n",
      "---  ------                --------------  -----  \n",
      " 0   product_name          3000 non-null   object \n",
      " 1   product_category      3000 non-null   object \n",
      " 2   product_price         3000 non-null   float64\n",
      " 3   product_description   3000 non-null   object \n",
      " 4   manufacturer          2770 non-null   object \n",
      " 5   stock_quantity        2252 non-null   float64\n",
      " 6   color                 2086 non-null   object \n",
      " 7   master_id             3000 non-null   int64  \n",
      " 8   product_sub_category  3000 non-null   object \n",
      "dtypes: float64(2), int64(1), object(6)\n",
      "memory usage: 211.1+ KB\n"
     ]
    }
   ],
   "source": [
    "df_master.info()"
   ]
  },
  {
   "cell_type": "code",
   "execution_count": 37,
   "id": "d842fb1c",
   "metadata": {},
   "outputs": [
    {
     "data": {
      "text/plain": [
       "{'paths': ['s3://datasilosproj/folder/datasilosproj.parquet'],\n",
       " 'partitions_values': {}}"
      ]
     },
     "execution_count": 37,
     "metadata": {},
     "output_type": "execute_result"
    }
   ],
   "source": [
    "# Upload the validated dataframe to S3 as a parquet file using awswrangler\n",
    "wr.s3.to_parquet(df_master,path=\"s3://datasilosproj/folder/datasilosproj.parquet\",index=False)"
   ]
  }
 ],
 "metadata": {
  "kernelspec": {
   "display_name": "Python 3",
   "language": "python",
   "name": "python3"
  },
  "language_info": {
   "codemirror_mode": {
    "name": "ipython",
    "version": 3
   },
   "file_extension": ".py",
   "mimetype": "text/x-python",
   "name": "python",
   "nbconvert_exporter": "python",
   "pygments_lexer": "ipython3",
   "version": "3.10.1"
  }
 },
 "nbformat": 4,
 "nbformat_minor": 5
}
