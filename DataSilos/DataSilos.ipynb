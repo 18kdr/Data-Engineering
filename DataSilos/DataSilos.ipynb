{
 "cells": [
  {
   "cell_type": "code",
   "execution_count": 2,
   "id": "3ada9322",
   "metadata": {},
   "outputs": [],
   "source": [
    "# Importing Libraries \n",
    "import pandas\n",
    "import psycopg2"
   ]
  },
  {
   "cell_type": "code",
   "execution_count": null,
   "id": "36c779fa",
   "metadata": {},
   "outputs": [],
   "source": [
    "# Connection eshtablishment \n",
    "conn = psycopg2.connect(dbname='postgres', user='postgres', password='postgres', host='localhost')"
   ]
  },
  {
   "cell_type": "code",
   "execution_count": 4,
   "id": "3a20716f",
   "metadata": {},
   "outputs": [],
   "source": [
    "conn.autocommit = True\n",
    "cur = conn.cursor()\n",
    "\n",
    "cur.execute(\"\"\"\n",
    "    CREATE DATABASE data_silos\n",
    "        LC_COLLATE='en-US'\n",
    "        LC_CTYPE='en-US'\n",
    "        TEMPLATE=template0;\n",
    "\"\"\")"
   ]
  }
 ],
 "metadata": {
  "kernelspec": {
   "display_name": "Python 3",
   "language": "python",
   "name": "python3"
  },
  "language_info": {
   "codemirror_mode": {
    "name": "ipython",
    "version": 3
   },
   "file_extension": ".py",
   "mimetype": "text/x-python",
   "name": "python",
   "nbconvert_exporter": "python",
   "pygments_lexer": "ipython3",
   "version": "3.10.1"
  }
 },
 "nbformat": 4,
 "nbformat_minor": 5
}
