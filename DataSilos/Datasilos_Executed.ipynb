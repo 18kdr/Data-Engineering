{
 "cells": [
  {
   "cell_type": "code",
   "execution_count": 1,
   "id": "3ada9322",
   "metadata": {
    "execution": {
     "iopub.execute_input": "2025-06-24T04:15:54.620710Z",
     "iopub.status.busy": "2025-06-24T04:15:54.619709Z",
     "iopub.status.idle": "2025-06-24T04:15:56.456969Z",
     "shell.execute_reply": "2025-06-24T04:15:56.455530Z"
    },
    "papermill": {
     "duration": 1.842299,
     "end_time": "2025-06-24T04:15:56.457969",
     "exception": false,
     "start_time": "2025-06-24T04:15:54.615670",
     "status": "completed"
    },
    "tags": []
   },
   "outputs": [
    {
     "data": {
      "text/plain": [
       "['__builtins__',\n",
       " '__cached__',\n",
       " '__doc__',\n",
       " '__file__',\n",
       " '__loader__',\n",
       " '__name__',\n",
       " '__package__',\n",
       " '__spec__',\n",
       " 'pa',\n",
       " 'validate_dataframe']"
      ]
     },
     "execution_count": 1,
     "metadata": {},
     "output_type": "execute_result"
    }
   ],
   "source": [
    "# Importing Libraries \n",
    "import pandas as pd\n",
    "import psycopg2\n",
    "import awswrangler as wr\n",
    "import extract_data\n",
    "import transformation\n",
    "import validation\n",
    "import load\n",
    "dir(validation)"
   ]
  },
  {
   "cell_type": "markdown",
   "id": "ccbf0226",
   "metadata": {
    "papermill": {
     "duration": 0.002416,
     "end_time": "2025-06-24T04:15:56.464910",
     "exception": false,
     "start_time": "2025-06-24T04:15:56.462494",
     "status": "completed"
    },
    "tags": []
   },
   "source": [
    "EXTRACTION"
   ]
  },
  {
   "cell_type": "code",
   "execution_count": 2,
   "id": "9a4e0396",
   "metadata": {
    "execution": {
     "iopub.execute_input": "2025-06-24T04:15:56.470886Z",
     "iopub.status.busy": "2025-06-24T04:15:56.469829Z",
     "iopub.status.idle": "2025-06-24T04:15:56.795932Z",
     "shell.execute_reply": "2025-06-24T04:15:56.795932Z"
    },
    "papermill": {
     "duration": 0.330305,
     "end_time": "2025-06-24T04:15:56.797216",
     "exception": false,
     "start_time": "2025-06-24T04:15:56.466911",
     "status": "completed"
    },
    "tags": []
   },
   "outputs": [
    {
     "name": "stderr",
     "output_type": "stream",
     "text": [
      "C:\\Users\\Kartikay\\Desktop\\Data Engineering\\Data-Engineering\\DataSilos\\extract_data.py:16: UserWarning: pandas only supports SQLAlchemy connectable (engine/connection) or database string URI or sqlite3 DBAPI2 connection. Other DBAPI2 objects are not tested. Please consider using SQLAlchemy.\n",
      "  df_sql = pd.read_sql(query,con=conn1)\n"
     ]
    }
   ],
   "source": [
    "\n",
    "# File Paths\n",
    "csv_file_path = r'C:\\Users\\Kartikay\\Downloads\\MOCK_DATA_CSV.csv'\n",
    "json_path = r'C:\\Users\\Kartikay\\Downloads\\mock_data_json.json'\n",
    "\n",
    "# Calling the function in extract_data.py to extract data from different sources\n",
    "df_sql = extract_data.extract_sql(\n",
    "    dbname='data_silos',\n",
    "    user ='postgres',\n",
    "    password ='postgres',\n",
    "    host='localhost'\n",
    "    )\n",
    "df_csv = extract_data.extract_csv(csv_file_path)\n",
    "df_json =  extract_data.extract_json(json_path)\n",
    "\n",
    "# Consoliudating all the data sources into one common master dataframe \n",
    "df_master = extract_data.merge_df([df_sql, df_csv, df_json])"
   ]
  },
  {
   "cell_type": "markdown",
   "id": "0e10af26",
   "metadata": {
    "papermill": {
     "duration": 0.001,
     "end_time": "2025-06-24T04:15:56.801216",
     "exception": false,
     "start_time": "2025-06-24T04:15:56.800216",
     "status": "completed"
    },
    "tags": []
   },
   "source": [
    " TRANSFORMATION"
   ]
  },
  {
   "cell_type": "code",
   "execution_count": 3,
   "id": "afd0e25e",
   "metadata": {
    "execution": {
     "iopub.execute_input": "2025-06-24T04:15:56.810139Z",
     "iopub.status.busy": "2025-06-24T04:15:56.808131Z",
     "iopub.status.idle": "2025-06-24T04:15:56.908573Z",
     "shell.execute_reply": "2025-06-24T04:15:56.907379Z"
    },
    "papermill": {
     "duration": 0.106441,
     "end_time": "2025-06-24T04:15:56.910574",
     "exception": false,
     "start_time": "2025-06-24T04:15:56.804133",
     "status": "completed"
    },
    "tags": []
   },
   "outputs": [
    {
     "data": {
      "text/html": [
       "<div>\n",
       "<style scoped>\n",
       "    .dataframe tbody tr th:only-of-type {\n",
       "        vertical-align: middle;\n",
       "    }\n",
       "\n",
       "    .dataframe tbody tr th {\n",
       "        vertical-align: top;\n",
       "    }\n",
       "\n",
       "    .dataframe thead th {\n",
       "        text-align: right;\n",
       "    }\n",
       "</style>\n",
       "<table border=\"1\" class=\"dataframe\">\n",
       "  <thead>\n",
       "    <tr style=\"text-align: right;\">\n",
       "      <th></th>\n",
       "      <th>product_name</th>\n",
       "      <th>product_category</th>\n",
       "      <th>product_price</th>\n",
       "      <th>product_description</th>\n",
       "      <th>manufacturer</th>\n",
       "      <th>stock_quantity</th>\n",
       "      <th>color</th>\n",
       "      <th>master_id</th>\n",
       "      <th>product_sub_category</th>\n",
       "    </tr>\n",
       "  </thead>\n",
       "  <tbody>\n",
       "    <tr>\n",
       "      <th>0</th>\n",
       "      <td>Salsa</td>\n",
       "      <td>Food</td>\n",
       "      <td>631.00</td>\n",
       "      <td>Fresh and zesty salsa, perfect for nachos.</td>\n",
       "      <td>Meevee</td>\n",
       "      <td>NaN</td>\n",
       "      <td>amber</td>\n",
       "      <td>1</td>\n",
       "      <td>Condiments</td>\n",
       "    </tr>\n",
       "    <tr>\n",
       "      <th>1</th>\n",
       "      <td>Party Mini Dress</td>\n",
       "      <td>Clothing</td>\n",
       "      <td>621.39</td>\n",
       "      <td>unknown</td>\n",
       "      <td>Realcube</td>\n",
       "      <td>416.0</td>\n",
       "      <td>None</td>\n",
       "      <td>2</td>\n",
       "      <td>Dresses</td>\n",
       "    </tr>\n",
       "    <tr>\n",
       "      <th>2</th>\n",
       "      <td>Cheddar Cheese Crackers</td>\n",
       "      <td>Food</td>\n",
       "      <td>172.69</td>\n",
       "      <td>Crunchy crackers topped with real cheddar chee...</td>\n",
       "      <td>Realpoint</td>\n",
       "      <td>NaN</td>\n",
       "      <td>sapphire</td>\n",
       "      <td>3</td>\n",
       "      <td>Snacks</td>\n",
       "    </tr>\n",
       "    <tr>\n",
       "      <th>3</th>\n",
       "      <td>Electric Air Pump</td>\n",
       "      <td>Outdoor</td>\n",
       "      <td>891.12</td>\n",
       "      <td>Fast and convenient air pump for inflating toy...</td>\n",
       "      <td>Voonder</td>\n",
       "      <td>19.0</td>\n",
       "      <td>None</td>\n",
       "      <td>4</td>\n",
       "      <td>unknown</td>\n",
       "    </tr>\n",
       "    <tr>\n",
       "      <th>4</th>\n",
       "      <td>Sweet Potato Chips</td>\n",
       "      <td>Food</td>\n",
       "      <td>954.02</td>\n",
       "      <td>Deliciously crunchy sweet potato chips, season...</td>\n",
       "      <td>Dabfeed</td>\n",
       "      <td>524.0</td>\n",
       "      <td>None</td>\n",
       "      <td>5</td>\n",
       "      <td>Snacks</td>\n",
       "    </tr>\n",
       "    <tr>\n",
       "      <th>...</th>\n",
       "      <td>...</td>\n",
       "      <td>...</td>\n",
       "      <td>...</td>\n",
       "      <td>...</td>\n",
       "      <td>...</td>\n",
       "      <td>...</td>\n",
       "      <td>...</td>\n",
       "      <td>...</td>\n",
       "      <td>...</td>\n",
       "    </tr>\n",
       "    <tr>\n",
       "      <th>2995</th>\n",
       "      <td>Travel Laundry Bag</td>\n",
       "      <td>Travel</td>\n",
       "      <td>76.05</td>\n",
       "      <td>Compact laundry bag for travel use.</td>\n",
       "      <td>Topicware</td>\n",
       "      <td>NaN</td>\n",
       "      <td>yellow</td>\n",
       "      <td>2996</td>\n",
       "      <td>unknown</td>\n",
       "    </tr>\n",
       "    <tr>\n",
       "      <th>2996</th>\n",
       "      <td>Sweetened Condensed Milk</td>\n",
       "      <td>Food</td>\n",
       "      <td>853.48</td>\n",
       "      <td>unknown</td>\n",
       "      <td>Tavu</td>\n",
       "      <td>623.0</td>\n",
       "      <td>yellow</td>\n",
       "      <td>2997</td>\n",
       "      <td>Baking Goods</td>\n",
       "    </tr>\n",
       "    <tr>\n",
       "      <th>2997</th>\n",
       "      <td>Saffron Rice Mix</td>\n",
       "      <td>Food</td>\n",
       "      <td>353.72</td>\n",
       "      <td>Flavorful rice mix with saffron and spices.</td>\n",
       "      <td>Jabberstorm</td>\n",
       "      <td>652.0</td>\n",
       "      <td>peach</td>\n",
       "      <td>2998</td>\n",
       "      <td>Grains</td>\n",
       "    </tr>\n",
       "    <tr>\n",
       "      <th>2998</th>\n",
       "      <td>Graphic Sweatshirt</td>\n",
       "      <td>Clothing</td>\n",
       "      <td>228.67</td>\n",
       "      <td>A comfortable sweatshirt featuring a bold grap...</td>\n",
       "      <td>Agivu</td>\n",
       "      <td>580.0</td>\n",
       "      <td>None</td>\n",
       "      <td>2999</td>\n",
       "      <td>Tops</td>\n",
       "    </tr>\n",
       "    <tr>\n",
       "      <th>2999</th>\n",
       "      <td>Wildflower Honey</td>\n",
       "      <td>Food</td>\n",
       "      <td>80.47</td>\n",
       "      <td>unknown</td>\n",
       "      <td>Edgewire</td>\n",
       "      <td>873.0</td>\n",
       "      <td>purple</td>\n",
       "      <td>3000</td>\n",
       "      <td>Condiments</td>\n",
       "    </tr>\n",
       "  </tbody>\n",
       "</table>\n",
       "<p>3000 rows × 9 columns</p>\n",
       "</div>"
      ],
      "text/plain": [
       "                  product_name product_category  product_price  \\\n",
       "0                        Salsa             Food         631.00   \n",
       "1             Party Mini Dress         Clothing         621.39   \n",
       "2      Cheddar Cheese Crackers             Food         172.69   \n",
       "3            Electric Air Pump          Outdoor         891.12   \n",
       "4           Sweet Potato Chips             Food         954.02   \n",
       "...                        ...              ...            ...   \n",
       "2995        Travel Laundry Bag           Travel          76.05   \n",
       "2996  Sweetened Condensed Milk             Food         853.48   \n",
       "2997          Saffron Rice Mix             Food         353.72   \n",
       "2998        Graphic Sweatshirt         Clothing         228.67   \n",
       "2999          Wildflower Honey             Food          80.47   \n",
       "\n",
       "                                    product_description manufacturer  \\\n",
       "0            Fresh and zesty salsa, perfect for nachos.       Meevee   \n",
       "1                                               unknown     Realcube   \n",
       "2     Crunchy crackers topped with real cheddar chee...    Realpoint   \n",
       "3     Fast and convenient air pump for inflating toy...      Voonder   \n",
       "4     Deliciously crunchy sweet potato chips, season...      Dabfeed   \n",
       "...                                                 ...          ...   \n",
       "2995                Compact laundry bag for travel use.    Topicware   \n",
       "2996                                            unknown         Tavu   \n",
       "2997        Flavorful rice mix with saffron and spices.  Jabberstorm   \n",
       "2998  A comfortable sweatshirt featuring a bold grap...        Agivu   \n",
       "2999                                            unknown     Edgewire   \n",
       "\n",
       "      stock_quantity     color  master_id product_sub_category  \n",
       "0                NaN     amber          1           Condiments  \n",
       "1              416.0      None          2              Dresses  \n",
       "2                NaN  sapphire          3               Snacks  \n",
       "3               19.0      None          4              unknown  \n",
       "4              524.0      None          5               Snacks  \n",
       "...              ...       ...        ...                  ...  \n",
       "2995             NaN    yellow       2996              unknown  \n",
       "2996           623.0    yellow       2997         Baking Goods  \n",
       "2997           652.0     peach       2998               Grains  \n",
       "2998           580.0      None       2999                 Tops  \n",
       "2999           873.0    purple       3000           Condiments  \n",
       "\n",
       "[3000 rows x 9 columns]"
      ]
     },
     "execution_count": 3,
     "metadata": {},
     "output_type": "execute_result"
    }
   ],
   "source": [
    "# Drop unecessary columns\n",
    "transformation.drop_columns(df_master,['product_id', 'release_date', 'expiry_date', 'weight'])\n",
    "#Splitting the required columns into sub-columns\n",
    "transformation.split_columns(df_master, 'product_category', 'product_category', 'product_sub_category', '-', 1)\n",
    "# Stripping whitespace from string columns\n",
    "transformation.strip_columns(df_master, ['product_category', 'product_sub_category', 'product_description'])\n",
    "# Filling missing values in the dataframe\n",
    "transformation.fill_missing_values(df_master) "
   ]
  },
  {
   "cell_type": "code",
   "execution_count": 4,
   "id": "d7e705ff",
   "metadata": {
    "execution": {
     "iopub.execute_input": "2025-06-24T04:15:56.919468Z",
     "iopub.status.busy": "2025-06-24T04:15:56.919468Z",
     "iopub.status.idle": "2025-06-24T04:15:56.942753Z",
     "shell.execute_reply": "2025-06-24T04:15:56.941647Z"
    },
    "papermill": {
     "duration": 0.029283,
     "end_time": "2025-06-24T04:15:56.944752",
     "exception": false,
     "start_time": "2025-06-24T04:15:56.915469",
     "status": "completed"
    },
    "tags": []
   },
   "outputs": [
    {
     "name": "stdout",
     "output_type": "stream",
     "text": [
      "<class 'pandas.core.frame.DataFrame'>\n",
      "RangeIndex: 3000 entries, 0 to 2999\n",
      "Data columns (total 9 columns):\n",
      " #   Column                Non-Null Count  Dtype  \n",
      "---  ------                --------------  -----  \n",
      " 0   product_name          3000 non-null   object \n",
      " 1   product_category      3000 non-null   object \n",
      " 2   product_price         3000 non-null   float64\n",
      " 3   product_description   3000 non-null   object \n",
      " 4   manufacturer          2770 non-null   object \n",
      " 5   stock_quantity        2252 non-null   float64\n",
      " 6   color                 2086 non-null   object \n",
      " 7   master_id             3000 non-null   int64  \n",
      " 8   product_sub_category  3000 non-null   object \n",
      "dtypes: float64(2), int64(1), object(6)\n",
      "memory usage: 211.1+ KB\n"
     ]
    }
   ],
   "source": [
    "df_master.info()"
   ]
  },
  {
   "cell_type": "markdown",
   "id": "f9c8ed79",
   "metadata": {
    "papermill": {
     "duration": 0.005002,
     "end_time": "2025-06-24T04:15:56.952754",
     "exception": false,
     "start_time": "2025-06-24T04:15:56.947752",
     "status": "completed"
    },
    "tags": []
   },
   "source": [
    "VALIDATION"
   ]
  },
  {
   "cell_type": "code",
   "execution_count": 5,
   "id": "7ea49aaa",
   "metadata": {
    "execution": {
     "iopub.execute_input": "2025-06-24T04:15:56.961752Z",
     "iopub.status.busy": "2025-06-24T04:15:56.960753Z",
     "iopub.status.idle": "2025-06-24T04:15:57.030058Z",
     "shell.execute_reply": "2025-06-24T04:15:57.029060Z"
    },
    "papermill": {
     "duration": 0.07631,
     "end_time": "2025-06-24T04:15:57.032065",
     "exception": false,
     "start_time": "2025-06-24T04:15:56.955755",
     "status": "completed"
    },
    "tags": []
   },
   "outputs": [],
   "source": [
    "validated_scheme = validation.validate_dataframe(df_master)"
   ]
  },
  {
   "cell_type": "markdown",
   "id": "3787555c",
   "metadata": {
    "papermill": {
     "duration": 0.005994,
     "end_time": "2025-06-24T04:15:57.046096",
     "exception": false,
     "start_time": "2025-06-24T04:15:57.040102",
     "status": "completed"
    },
    "tags": []
   },
   "source": [
    "LOAD"
   ]
  },
  {
   "cell_type": "code",
   "execution_count": 6,
   "id": "09b61446",
   "metadata": {
    "execution": {
     "iopub.execute_input": "2025-06-24T04:15:57.059101Z",
     "iopub.status.busy": "2025-06-24T04:15:57.058098Z",
     "iopub.status.idle": "2025-06-24T04:15:57.952082Z",
     "shell.execute_reply": "2025-06-24T04:15:57.948957Z"
    },
    "papermill": {
     "duration": 0.906674,
     "end_time": "2025-06-24T04:15:57.956769",
     "exception": false,
     "start_time": "2025-06-24T04:15:57.050095",
     "status": "completed"
    },
    "tags": []
   },
   "outputs": [
    {
     "name": "stdout",
     "output_type": "stream",
     "text": [
      "Success\n"
     ]
    }
   ],
   "source": [
    "load.load_data_wrangler(df_master, path=\"s3://datasilosproj/folder/datasilosproj.parquet\")"
   ]
  }
 ],
 "metadata": {
  "kernelspec": {
   "display_name": "Python 3",
   "language": "python",
   "name": "python3"
  },
  "language_info": {
   "codemirror_mode": {
    "name": "ipython",
    "version": 3
   },
   "file_extension": ".py",
   "mimetype": "text/x-python",
   "name": "python",
   "nbconvert_exporter": "python",
   "pygments_lexer": "ipython3",
   "version": "3.10.1"
  },
  "papermill": {
   "default_parameters": {},
   "duration": 7.019147,
   "end_time": "2025-06-24T04:15:58.521130",
   "environment_variables": {},
   "exception": null,
   "input_path": "DataSilos.ipynb",
   "output_path": "Datasilos_Executed.ipynb",
   "parameters": {},
   "start_time": "2025-06-24T04:15:51.501983",
   "version": "2.6.0"
  }
 },
 "nbformat": 4,
 "nbformat_minor": 5
}